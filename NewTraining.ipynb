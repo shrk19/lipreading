{
  "cells": [
    {
      "cell_type": "markdown",
      "id": "a3573a47-3689-4668-b62f-5c8451b2b4e9",
      "metadata": {
        "tags": [],
        "id": "a3573a47-3689-4668-b62f-5c8451b2b4e9"
      },
      "source": [
        "# 0. Install and Import Dependencies"
      ]
    },
    {
      "cell_type": "code",
      "execution_count": null,
      "id": "ddfbccbe-41ae-4c23-98b1-a13868e2b499",
      "metadata": {
        "scrolled": true,
        "tags": [],
        "id": "ddfbccbe-41ae-4c23-98b1-a13868e2b499"
      },
      "outputs": [],
      "source": [
        "!pip list"
      ]
    },
    {
      "cell_type": "code",
      "execution_count": 4,
      "id": "02f907ea-f669-46c7-adcf-7f257e663448",
      "metadata": {
        "tags": [],
        "id": "02f907ea-f669-46c7-adcf-7f257e663448",
        "colab": {
          "base_uri": "https://localhost:8080/",
          "height": 1000
        },
        "outputId": "1a48ab9f-92aa-43e5-a67b-41401eadc594"
      },
      "outputs": [
        {
          "output_type": "stream",
          "name": "stdout",
          "text": [
            "Collecting opencv-python==4.6.0.66\n",
            "  Downloading opencv_python-4.6.0.66-cp36-abi3-manylinux_2_17_x86_64.manylinux2014_x86_64.whl (60.9 MB)\n",
            "\u001b[2K     \u001b[90m━━━━━━━━━━━━━━━━━━━━━━━━━━━━━━━━━━━━━━━━\u001b[0m \u001b[32m60.9/60.9 MB\u001b[0m \u001b[31m11.5 MB/s\u001b[0m eta \u001b[36m0:00:00\u001b[0m\n",
            "\u001b[?25hCollecting matplotlib==3.6.2\n",
            "  Downloading matplotlib-3.6.2-cp310-cp310-manylinux_2_17_x86_64.manylinux2014_x86_64.whl (11.8 MB)\n",
            "\u001b[2K     \u001b[90m━━━━━━━━━━━━━━━━━━━━━━━━━━━━━━━━━━━━━━━━\u001b[0m \u001b[32m11.8/11.8 MB\u001b[0m \u001b[31m112.8 MB/s\u001b[0m eta \u001b[36m0:00:00\u001b[0m\n",
            "\u001b[?25hCollecting imageio==2.23.0\n",
            "  Downloading imageio-2.23.0-py3-none-any.whl (3.4 MB)\n",
            "\u001b[2K     \u001b[90m━━━━━━━━━━━━━━━━━━━━━━━━━━━━━━━━━━━━━━━━\u001b[0m \u001b[32m3.4/3.4 MB\u001b[0m \u001b[31m102.1 MB/s\u001b[0m eta \u001b[36m0:00:00\u001b[0m\n",
            "\u001b[?25hCollecting gdown==4.6.0\n",
            "  Downloading gdown-4.6.0-py3-none-any.whl (14 kB)\n",
            "Collecting tensorflow==2.10.1\n",
            "  Downloading tensorflow-2.10.1-cp310-cp310-manylinux_2_17_x86_64.manylinux2014_x86_64.whl (578.1 MB)\n",
            "\u001b[2K     \u001b[90m━━━━━━━━━━━━━━━━━━━━━━━━━━━━━━━━━━━━━━━━\u001b[0m \u001b[32m578.1/578.1 MB\u001b[0m \u001b[31m3.0 MB/s\u001b[0m eta \u001b[36m0:00:00\u001b[0m\n",
            "\u001b[?25hCollecting numpy==1.24.1\n",
            "  Downloading numpy-1.24.1-cp310-cp310-manylinux_2_17_x86_64.manylinux2014_x86_64.whl (17.3 MB)\n",
            "\u001b[2K     \u001b[90m━━━━━━━━━━━━━━━━━━━━━━━━━━━━━━━━━━━━━━━━\u001b[0m \u001b[32m17.3/17.3 MB\u001b[0m \u001b[31m79.1 MB/s\u001b[0m eta \u001b[36m0:00:00\u001b[0m\n",
            "\u001b[?25hRequirement already satisfied: contourpy>=1.0.1 in /usr/local/lib/python3.10/dist-packages (from matplotlib==3.6.2) (1.2.0)\n",
            "Requirement already satisfied: cycler>=0.10 in /usr/local/lib/python3.10/dist-packages (from matplotlib==3.6.2) (0.12.1)\n",
            "Requirement already satisfied: fonttools>=4.22.0 in /usr/local/lib/python3.10/dist-packages (from matplotlib==3.6.2) (4.44.3)\n",
            "Requirement already satisfied: kiwisolver>=1.0.1 in /usr/local/lib/python3.10/dist-packages (from matplotlib==3.6.2) (1.4.5)\n",
            "Requirement already satisfied: packaging>=20.0 in /usr/local/lib/python3.10/dist-packages (from matplotlib==3.6.2) (23.2)\n",
            "Requirement already satisfied: pillow>=6.2.0 in /usr/local/lib/python3.10/dist-packages (from matplotlib==3.6.2) (9.4.0)\n",
            "Requirement already satisfied: pyparsing>=2.2.1 in /usr/local/lib/python3.10/dist-packages (from matplotlib==3.6.2) (3.1.1)\n",
            "Requirement already satisfied: python-dateutil>=2.7 in /usr/local/lib/python3.10/dist-packages (from matplotlib==3.6.2) (2.8.2)\n",
            "Requirement already satisfied: filelock in /usr/local/lib/python3.10/dist-packages (from gdown==4.6.0) (3.13.1)\n",
            "Requirement already satisfied: requests[socks] in /usr/local/lib/python3.10/dist-packages (from gdown==4.6.0) (2.31.0)\n",
            "Requirement already satisfied: six in /usr/local/lib/python3.10/dist-packages (from gdown==4.6.0) (1.16.0)\n",
            "Requirement already satisfied: tqdm in /usr/local/lib/python3.10/dist-packages (from gdown==4.6.0) (4.66.1)\n",
            "Requirement already satisfied: beautifulsoup4 in /usr/local/lib/python3.10/dist-packages (from gdown==4.6.0) (4.11.2)\n",
            "Requirement already satisfied: absl-py>=1.0.0 in /usr/local/lib/python3.10/dist-packages (from tensorflow==2.10.1) (1.4.0)\n",
            "Requirement already satisfied: astunparse>=1.6.0 in /usr/local/lib/python3.10/dist-packages (from tensorflow==2.10.1) (1.6.3)\n",
            "Requirement already satisfied: flatbuffers>=2.0 in /usr/local/lib/python3.10/dist-packages (from tensorflow==2.10.1) (23.5.26)\n",
            "Collecting gast<=0.4.0,>=0.2.1 (from tensorflow==2.10.1)\n",
            "  Downloading gast-0.4.0-py3-none-any.whl (9.8 kB)\n",
            "Requirement already satisfied: google-pasta>=0.1.1 in /usr/local/lib/python3.10/dist-packages (from tensorflow==2.10.1) (0.2.0)\n",
            "Requirement already satisfied: grpcio<2.0,>=1.24.3 in /usr/local/lib/python3.10/dist-packages (from tensorflow==2.10.1) (1.59.2)\n",
            "Requirement already satisfied: h5py>=2.9.0 in /usr/local/lib/python3.10/dist-packages (from tensorflow==2.10.1) (3.9.0)\n",
            "Collecting keras<2.11,>=2.10.0 (from tensorflow==2.10.1)\n",
            "  Downloading keras-2.10.0-py2.py3-none-any.whl (1.7 MB)\n",
            "\u001b[2K     \u001b[90m━━━━━━━━━━━━━━━━━━━━━━━━━━━━━━━━━━━━━━━━\u001b[0m \u001b[32m1.7/1.7 MB\u001b[0m \u001b[31m97.9 MB/s\u001b[0m eta \u001b[36m0:00:00\u001b[0m\n",
            "\u001b[?25hCollecting keras-preprocessing>=1.1.1 (from tensorflow==2.10.1)\n",
            "  Downloading Keras_Preprocessing-1.1.2-py2.py3-none-any.whl (42 kB)\n",
            "\u001b[2K     \u001b[90m━━━━━━━━━━━━━━━━━━━━━━━━━━━━━━━━━━━━━━━━\u001b[0m \u001b[32m42.6/42.6 kB\u001b[0m \u001b[31m7.1 MB/s\u001b[0m eta \u001b[36m0:00:00\u001b[0m\n",
            "\u001b[?25hRequirement already satisfied: libclang>=13.0.0 in /usr/local/lib/python3.10/dist-packages (from tensorflow==2.10.1) (16.0.6)\n",
            "Requirement already satisfied: opt-einsum>=2.3.2 in /usr/local/lib/python3.10/dist-packages (from tensorflow==2.10.1) (3.3.0)\n",
            "Collecting protobuf<3.20,>=3.9.2 (from tensorflow==2.10.1)\n",
            "  Downloading protobuf-3.19.6-cp310-cp310-manylinux_2_17_x86_64.manylinux2014_x86_64.whl (1.1 MB)\n",
            "\u001b[2K     \u001b[90m━━━━━━━━━━━━━━━━━━━━━━━━━━━━━━━━━━━━━━━━\u001b[0m \u001b[32m1.1/1.1 MB\u001b[0m \u001b[31m63.6 MB/s\u001b[0m eta \u001b[36m0:00:00\u001b[0m\n",
            "\u001b[?25hRequirement already satisfied: setuptools in /usr/local/lib/python3.10/dist-packages (from tensorflow==2.10.1) (67.7.2)\n",
            "Collecting tensorboard<2.11,>=2.10 (from tensorflow==2.10.1)\n",
            "  Downloading tensorboard-2.10.1-py3-none-any.whl (5.9 MB)\n",
            "\u001b[2K     \u001b[90m━━━━━━━━━━━━━━━━━━━━━━━━━━━━━━━━━━━━━━━━\u001b[0m \u001b[32m5.9/5.9 MB\u001b[0m \u001b[31m86.2 MB/s\u001b[0m eta \u001b[36m0:00:00\u001b[0m\n",
            "\u001b[?25hRequirement already satisfied: tensorflow-io-gcs-filesystem>=0.23.1 in /usr/local/lib/python3.10/dist-packages (from tensorflow==2.10.1) (0.34.0)\n",
            "Collecting tensorflow-estimator<2.11,>=2.10.0 (from tensorflow==2.10.1)\n",
            "  Downloading tensorflow_estimator-2.10.0-py2.py3-none-any.whl (438 kB)\n",
            "\u001b[2K     \u001b[90m━━━━━━━━━━━━━━━━━━━━━━━━━━━━━━━━━━━━━━━━\u001b[0m \u001b[32m438.7/438.7 kB\u001b[0m \u001b[31m42.1 MB/s\u001b[0m eta \u001b[36m0:00:00\u001b[0m\n",
            "\u001b[?25hRequirement already satisfied: termcolor>=1.1.0 in /usr/local/lib/python3.10/dist-packages (from tensorflow==2.10.1) (2.3.0)\n",
            "Requirement already satisfied: typing-extensions>=3.6.6 in /usr/local/lib/python3.10/dist-packages (from tensorflow==2.10.1) (4.5.0)\n",
            "Requirement already satisfied: wrapt>=1.11.0 in /usr/local/lib/python3.10/dist-packages (from tensorflow==2.10.1) (1.14.1)\n",
            "Requirement already satisfied: wheel<1.0,>=0.23.0 in /usr/local/lib/python3.10/dist-packages (from astunparse>=1.6.0->tensorflow==2.10.1) (0.41.3)\n",
            "Requirement already satisfied: google-auth<3,>=1.6.3 in /usr/local/lib/python3.10/dist-packages (from tensorboard<2.11,>=2.10->tensorflow==2.10.1) (2.17.3)\n",
            "Collecting google-auth-oauthlib<0.5,>=0.4.1 (from tensorboard<2.11,>=2.10->tensorflow==2.10.1)\n",
            "  Downloading google_auth_oauthlib-0.4.6-py2.py3-none-any.whl (18 kB)\n",
            "Requirement already satisfied: markdown>=2.6.8 in /usr/local/lib/python3.10/dist-packages (from tensorboard<2.11,>=2.10->tensorflow==2.10.1) (3.5.1)\n",
            "Collecting tensorboard-data-server<0.7.0,>=0.6.0 (from tensorboard<2.11,>=2.10->tensorflow==2.10.1)\n",
            "  Downloading tensorboard_data_server-0.6.1-py3-none-manylinux2010_x86_64.whl (4.9 MB)\n",
            "\u001b[2K     \u001b[90m━━━━━━━━━━━━━━━━━━━━━━━━━━━━━━━━━━━━━━━━\u001b[0m \u001b[32m4.9/4.9 MB\u001b[0m \u001b[31m66.4 MB/s\u001b[0m eta \u001b[36m0:00:00\u001b[0m\n",
            "\u001b[?25hCollecting tensorboard-plugin-wit>=1.6.0 (from tensorboard<2.11,>=2.10->tensorflow==2.10.1)\n",
            "  Downloading tensorboard_plugin_wit-1.8.1-py3-none-any.whl (781 kB)\n",
            "\u001b[2K     \u001b[90m━━━━━━━━━━━━━━━━━━━━━━━━━━━━━━━━━━━━━━━━\u001b[0m \u001b[32m781.3/781.3 kB\u001b[0m \u001b[31m64.4 MB/s\u001b[0m eta \u001b[36m0:00:00\u001b[0m\n",
            "\u001b[?25hRequirement already satisfied: werkzeug>=1.0.1 in /usr/local/lib/python3.10/dist-packages (from tensorboard<2.11,>=2.10->tensorflow==2.10.1) (3.0.1)\n",
            "Requirement already satisfied: soupsieve>1.2 in /usr/local/lib/python3.10/dist-packages (from beautifulsoup4->gdown==4.6.0) (2.5)\n",
            "Requirement already satisfied: charset-normalizer<4,>=2 in /usr/local/lib/python3.10/dist-packages (from requests[socks]->gdown==4.6.0) (3.3.2)\n",
            "Requirement already satisfied: idna<4,>=2.5 in /usr/local/lib/python3.10/dist-packages (from requests[socks]->gdown==4.6.0) (3.4)\n",
            "Requirement already satisfied: urllib3<3,>=1.21.1 in /usr/local/lib/python3.10/dist-packages (from requests[socks]->gdown==4.6.0) (2.0.7)\n",
            "Requirement already satisfied: certifi>=2017.4.17 in /usr/local/lib/python3.10/dist-packages (from requests[socks]->gdown==4.6.0) (2023.7.22)\n",
            "Requirement already satisfied: PySocks!=1.5.7,>=1.5.6 in /usr/local/lib/python3.10/dist-packages (from requests[socks]->gdown==4.6.0) (1.7.1)\n",
            "Requirement already satisfied: cachetools<6.0,>=2.0.0 in /usr/local/lib/python3.10/dist-packages (from google-auth<3,>=1.6.3->tensorboard<2.11,>=2.10->tensorflow==2.10.1) (5.3.2)\n",
            "Requirement already satisfied: pyasn1-modules>=0.2.1 in /usr/local/lib/python3.10/dist-packages (from google-auth<3,>=1.6.3->tensorboard<2.11,>=2.10->tensorflow==2.10.1) (0.3.0)\n",
            "Requirement already satisfied: rsa<5,>=3.1.4 in /usr/local/lib/python3.10/dist-packages (from google-auth<3,>=1.6.3->tensorboard<2.11,>=2.10->tensorflow==2.10.1) (4.9)\n",
            "Requirement already satisfied: requests-oauthlib>=0.7.0 in /usr/local/lib/python3.10/dist-packages (from google-auth-oauthlib<0.5,>=0.4.1->tensorboard<2.11,>=2.10->tensorflow==2.10.1) (1.3.1)\n",
            "Requirement already satisfied: MarkupSafe>=2.1.1 in /usr/local/lib/python3.10/dist-packages (from werkzeug>=1.0.1->tensorboard<2.11,>=2.10->tensorflow==2.10.1) (2.1.3)\n",
            "Requirement already satisfied: pyasn1<0.6.0,>=0.4.6 in /usr/local/lib/python3.10/dist-packages (from pyasn1-modules>=0.2.1->google-auth<3,>=1.6.3->tensorboard<2.11,>=2.10->tensorflow==2.10.1) (0.5.0)\n",
            "Requirement already satisfied: oauthlib>=3.0.0 in /usr/local/lib/python3.10/dist-packages (from requests-oauthlib>=0.7.0->google-auth-oauthlib<0.5,>=0.4.1->tensorboard<2.11,>=2.10->tensorflow==2.10.1) (3.2.2)\n",
            "Installing collected packages: tensorboard-plugin-wit, keras, tensorflow-estimator, tensorboard-data-server, protobuf, numpy, gast, opencv-python, keras-preprocessing, imageio, matplotlib, google-auth-oauthlib, gdown, tensorboard, tensorflow\n",
            "  Attempting uninstall: keras\n",
            "    Found existing installation: keras 2.14.0\n",
            "    Uninstalling keras-2.14.0:\n",
            "      Successfully uninstalled keras-2.14.0\n",
            "  Attempting uninstall: tensorflow-estimator\n",
            "    Found existing installation: tensorflow-estimator 2.14.0\n",
            "    Uninstalling tensorflow-estimator-2.14.0:\n",
            "      Successfully uninstalled tensorflow-estimator-2.14.0\n",
            "  Attempting uninstall: tensorboard-data-server\n",
            "    Found existing installation: tensorboard-data-server 0.7.2\n",
            "    Uninstalling tensorboard-data-server-0.7.2:\n",
            "      Successfully uninstalled tensorboard-data-server-0.7.2\n",
            "  Attempting uninstall: protobuf\n",
            "    Found existing installation: protobuf 3.20.3\n",
            "    Uninstalling protobuf-3.20.3:\n",
            "      Successfully uninstalled protobuf-3.20.3\n",
            "  Attempting uninstall: numpy\n",
            "    Found existing installation: numpy 1.23.5\n",
            "    Uninstalling numpy-1.23.5:\n",
            "      Successfully uninstalled numpy-1.23.5\n",
            "  Attempting uninstall: gast\n",
            "    Found existing installation: gast 0.5.4\n",
            "    Uninstalling gast-0.5.4:\n",
            "      Successfully uninstalled gast-0.5.4\n",
            "  Attempting uninstall: opencv-python\n",
            "    Found existing installation: opencv-python 4.8.0.76\n",
            "    Uninstalling opencv-python-4.8.0.76:\n",
            "      Successfully uninstalled opencv-python-4.8.0.76\n",
            "  Attempting uninstall: imageio\n",
            "    Found existing installation: imageio 2.31.6\n",
            "    Uninstalling imageio-2.31.6:\n",
            "      Successfully uninstalled imageio-2.31.6\n",
            "  Attempting uninstall: matplotlib\n",
            "    Found existing installation: matplotlib 3.7.1\n",
            "    Uninstalling matplotlib-3.7.1:\n",
            "      Successfully uninstalled matplotlib-3.7.1\n",
            "  Attempting uninstall: google-auth-oauthlib\n",
            "    Found existing installation: google-auth-oauthlib 1.0.0\n",
            "    Uninstalling google-auth-oauthlib-1.0.0:\n",
            "      Successfully uninstalled google-auth-oauthlib-1.0.0\n",
            "  Attempting uninstall: gdown\n",
            "    Found existing installation: gdown 4.6.6\n",
            "    Uninstalling gdown-4.6.6:\n",
            "      Successfully uninstalled gdown-4.6.6\n",
            "  Attempting uninstall: tensorboard\n",
            "    Found existing installation: tensorboard 2.14.1\n",
            "    Uninstalling tensorboard-2.14.1:\n",
            "      Successfully uninstalled tensorboard-2.14.1\n",
            "  Attempting uninstall: tensorflow\n",
            "    Found existing installation: tensorflow 2.14.0\n",
            "    Uninstalling tensorflow-2.14.0:\n",
            "      Successfully uninstalled tensorflow-2.14.0\n",
            "\u001b[31mERROR: pip's dependency resolver does not currently take into account all the packages that are installed. This behaviour is the source of the following dependency conflicts.\n",
            "lida 0.0.10 requires fastapi, which is not installed.\n",
            "lida 0.0.10 requires kaleido, which is not installed.\n",
            "lida 0.0.10 requires python-multipart, which is not installed.\n",
            "lida 0.0.10 requires uvicorn, which is not installed.\n",
            "tensorflow-datasets 4.9.3 requires protobuf>=3.20, but you have protobuf 3.19.6 which is incompatible.\n",
            "tensorflow-metadata 1.14.0 requires protobuf<4.21,>=3.20.3, but you have protobuf 3.19.6 which is incompatible.\u001b[0m\u001b[31m\n",
            "\u001b[0mSuccessfully installed gast-0.4.0 gdown-4.6.0 google-auth-oauthlib-0.4.6 imageio-2.23.0 keras-2.10.0 keras-preprocessing-1.1.2 matplotlib-3.6.2 numpy-1.24.1 opencv-python-4.6.0.66 protobuf-3.19.6 tensorboard-2.10.1 tensorboard-data-server-0.6.1 tensorboard-plugin-wit-1.8.1 tensorflow-2.10.1 tensorflow-estimator-2.10.0\n"
          ]
        },
        {
          "output_type": "display_data",
          "data": {
            "application/vnd.colab-display-data+json": {
              "pip_warning": {
                "packages": [
                  "gdown",
                  "google",
                  "matplotlib",
                  "mpl_toolkits",
                  "numpy"
                ]
              }
            }
          },
          "metadata": {}
        }
      ],
      "source": [
        "!pip install opencv-python==4.6.0.66 matplotlib==3.6.2 imageio==2.23.0 gdown==4.6.0 tensorflow==2.10.1 numpy==1.24.1"
      ]
    },
    {
      "cell_type": "code",
      "execution_count": 13,
      "id": "b24af50c-20b8-409d-ad78-30a933fdd669",
      "metadata": {
        "tags": [],
        "id": "b24af50c-20b8-409d-ad78-30a933fdd669"
      },
      "outputs": [],
      "source": [
        "import os\n",
        "import cv2\n",
        "import tensorflow as tf\n",
        "import numpy as np\n",
        "from typing import List\n",
        "from matplotlib import pyplot as plt\n",
        "import imageio"
      ]
    },
    {
      "cell_type": "code",
      "execution_count": 14,
      "id": "1e3db0b0-e559-4ad6-91fd-e7414b7d75e6",
      "metadata": {
        "id": "1e3db0b0-e559-4ad6-91fd-e7414b7d75e6",
        "colab": {
          "base_uri": "https://localhost:8080/"
        },
        "outputId": "eb8ad34e-2f47-4b6b-c383-5f4ef62b58cc"
      },
      "outputs": [
        {
          "output_type": "execute_result",
          "data": {
            "text/plain": [
              "[PhysicalDevice(name='/physical_device:GPU:0', device_type='GPU')]"
            ]
          },
          "metadata": {},
          "execution_count": 14
        }
      ],
      "source": [
        "tf.config.list_physical_devices('GPU')"
      ]
    },
    {
      "cell_type": "code",
      "execution_count": 15,
      "id": "378d045a-3003-4f93-b7d2-a25a97774a68",
      "metadata": {
        "tags": [],
        "id": "378d045a-3003-4f93-b7d2-a25a97774a68"
      },
      "outputs": [],
      "source": [
        "physical_devices = tf.config.list_physical_devices('GPU')\n",
        "try:\n",
        "    tf.config.experimental.set_memory_growth(physical_devices[0], True)\n",
        "except:\n",
        "    pass"
      ]
    },
    {
      "cell_type": "markdown",
      "id": "7a19e88e-c7b9-45c1-ae1e-f2109329c71b",
      "metadata": {
        "tags": [],
        "id": "7a19e88e-c7b9-45c1-ae1e-f2109329c71b"
      },
      "source": [
        "# 1. Build Data Loading Functions"
      ]
    },
    {
      "cell_type": "code",
      "execution_count": 16,
      "id": "8fb99c90-e05a-437f-839d-6e772f8c1dd5",
      "metadata": {
        "tags": [],
        "id": "8fb99c90-e05a-437f-839d-6e772f8c1dd5"
      },
      "outputs": [],
      "source": [
        "import gdown"
      ]
    },
    {
      "cell_type": "code",
      "execution_count": 17,
      "id": "c019e4c6-2af3-4160-99ea-5c8cb009f1a7",
      "metadata": {
        "tags": [],
        "id": "c019e4c6-2af3-4160-99ea-5c8cb009f1a7",
        "colab": {
          "base_uri": "https://localhost:8080/"
        },
        "outputId": "488f8a31-52cc-4b7f-d519-15524e052176"
      },
      "outputs": [
        {
          "output_type": "stream",
          "name": "stderr",
          "text": [
            "Downloading...\n",
            "From: https://drive.google.com/uc?id=1Eo3KRafygvcldP2m6O-Ww2fg_f0lxiwJ\n",
            "To: /content/data.zip\n",
            "100%|██████████| 434M/434M [00:04<00:00, 91.1MB/s]\n"
          ]
        },
        {
          "output_type": "execute_result",
          "data": {
            "text/plain": [
              "['data/alignments/',\n",
              " 'data/alignments/s1/',\n",
              " 'data/alignments/s1/bbaf2n.align',\n",
              " 'data/alignments/s1/bbaf3s.align',\n",
              " 'data/alignments/s1/bbaf4p.align',\n",
              " 'data/alignments/s1/bbaf5a.align',\n",
              " 'data/alignments/s1/bbal6n.align',\n",
              " 'data/alignments/s1/bbal7s.align',\n",
              " 'data/alignments/s1/bbal8p.align',\n",
              " 'data/alignments/s1/bbal9a.align',\n",
              " 'data/alignments/s1/bbas1s.align',\n",
              " 'data/alignments/s1/bbas2p.align',\n",
              " 'data/alignments/s1/bbas3a.align',\n",
              " 'data/alignments/s1/bbaszn.align',\n",
              " 'data/alignments/s1/bbaz4n.align',\n",
              " 'data/alignments/s1/bbaz5s.align',\n",
              " 'data/alignments/s1/bbaz6p.align',\n",
              " 'data/alignments/s1/bbaz7a.align',\n",
              " 'data/alignments/s1/bbbf6n.align',\n",
              " 'data/alignments/s1/bbbf7s.align',\n",
              " 'data/alignments/s1/bbbf8p.align',\n",
              " 'data/alignments/s1/bbbf9a.align',\n",
              " 'data/alignments/s1/bbbm1s.align',\n",
              " 'data/alignments/s1/bbbm2p.align',\n",
              " 'data/alignments/s1/bbbm3a.align',\n",
              " 'data/alignments/s1/bbbmzn.align',\n",
              " 'data/alignments/s1/bbbs4n.align',\n",
              " 'data/alignments/s1/bbbs5s.align',\n",
              " 'data/alignments/s1/bbbs6p.align',\n",
              " 'data/alignments/s1/bbbs7a.align',\n",
              " 'data/alignments/s1/bbbz8n.align',\n",
              " 'data/alignments/s1/bbbz9s.align',\n",
              " 'data/alignments/s1/bbie8n.align',\n",
              " 'data/alignments/s1/bbie9s.align',\n",
              " 'data/alignments/s1/bbif1a.align',\n",
              " 'data/alignments/s1/bbifzp.align',\n",
              " 'data/alignments/s1/bbil2n.align',\n",
              " 'data/alignments/s1/bbil3s.align',\n",
              " 'data/alignments/s1/bbil4p.align',\n",
              " 'data/alignments/s1/bbil5a.align',\n",
              " 'data/alignments/s1/bbir6n.align',\n",
              " 'data/alignments/s1/bbir7s.align',\n",
              " 'data/alignments/s1/bbir8p.align',\n",
              " 'data/alignments/s1/bbir9a.align',\n",
              " 'data/alignments/s1/bbiz1s.align',\n",
              " 'data/alignments/s1/bbiz2p.align',\n",
              " 'data/alignments/s1/bbiz3a.align',\n",
              " 'data/alignments/s1/bbizzn.align',\n",
              " 'data/alignments/s1/bbwg1s.align',\n",
              " 'data/alignments/s1/bbwg2p.align',\n",
              " 'data/alignments/s1/bbwg3a.align',\n",
              " 'data/alignments/s1/bbwgzn.align',\n",
              " 'data/alignments/s1/bbwm4n.align',\n",
              " 'data/alignments/s1/bbwm5s.align',\n",
              " 'data/alignments/s1/bbwm6p.align',\n",
              " 'data/alignments/s1/bbwm7a.align',\n",
              " 'data/alignments/s1/bbws8n.align',\n",
              " 'data/alignments/s1/bbws9s.align',\n",
              " 'data/alignments/s1/bbwt1a.align',\n",
              " 'data/alignments/s1/bbwtzp.align',\n",
              " 'data/alignments/s1/bgaa6n.align',\n",
              " 'data/alignments/s1/bgaa7s.align',\n",
              " 'data/alignments/s1/bgaa8p.align',\n",
              " 'data/alignments/s1/bgaa9a.align',\n",
              " 'data/alignments/s1/bgah1s.align',\n",
              " 'data/alignments/s1/bgah2p.align',\n",
              " 'data/alignments/s1/bgah3a.align',\n",
              " 'data/alignments/s1/bgahzn.align',\n",
              " 'data/alignments/s1/bgan4n.align',\n",
              " 'data/alignments/s1/bgan5s.align',\n",
              " 'data/alignments/s1/bgan6p.align',\n",
              " 'data/alignments/s1/bgan7a.align',\n",
              " 'data/alignments/s1/bgat8n.align',\n",
              " 'data/alignments/s1/bgat9s.align',\n",
              " 'data/alignments/s1/bgau1a.align',\n",
              " 'data/alignments/s1/bgauzp.align',\n",
              " 'data/alignments/s1/bgbb1s.align',\n",
              " 'data/alignments/s1/bgbb2p.align',\n",
              " 'data/alignments/s1/bgbb3a.align',\n",
              " 'data/alignments/s1/bgbbzn.align',\n",
              " 'data/alignments/s1/bgbh4n.align',\n",
              " 'data/alignments/s1/bgbh5s.align',\n",
              " 'data/alignments/s1/bgbh6p.align',\n",
              " 'data/alignments/s1/bgbh7a.align',\n",
              " 'data/alignments/s1/bgbn8n.align',\n",
              " 'data/alignments/s1/bgbn9s.align',\n",
              " 'data/alignments/s1/bgbo1a.align',\n",
              " 'data/alignments/s1/bgbozp.align',\n",
              " 'data/alignments/s1/bgbu2n.align',\n",
              " 'data/alignments/s1/bgbu3s.align',\n",
              " 'data/alignments/s1/bgbu4p.align',\n",
              " 'data/alignments/s1/bgbu5a.align',\n",
              " 'data/alignments/s1/bgia2n.align',\n",
              " 'data/alignments/s1/bgia3s.align',\n",
              " 'data/alignments/s1/bgia4p.align',\n",
              " 'data/alignments/s1/bgia5a.align',\n",
              " 'data/alignments/s1/bgig6n.align',\n",
              " 'data/alignments/s1/bgig7s.align',\n",
              " 'data/alignments/s1/bgig8p.align',\n",
              " 'data/alignments/s1/bgig9a.align',\n",
              " 'data/alignments/s1/bgin1s.align',\n",
              " 'data/alignments/s1/bgin2p.align',\n",
              " 'data/alignments/s1/bgin3a.align',\n",
              " 'data/alignments/s1/bginzn.align',\n",
              " 'data/alignments/s1/bgit4n.align',\n",
              " 'data/alignments/s1/bgit5s.align',\n",
              " 'data/alignments/s1/bgit6p.align',\n",
              " 'data/alignments/s1/bgit7a.align',\n",
              " 'data/alignments/s1/bgwb4n.align',\n",
              " 'data/alignments/s1/bgwb5s.align',\n",
              " 'data/alignments/s1/bgwb6p.align',\n",
              " 'data/alignments/s1/bgwb7a.align',\n",
              " 'data/alignments/s1/bgwh8n.align',\n",
              " 'data/alignments/s1/bgwh9s.align',\n",
              " 'data/alignments/s1/bgwi1a.align',\n",
              " 'data/alignments/s1/bgwizp.align',\n",
              " 'data/alignments/s1/bgwo2n.align',\n",
              " 'data/alignments/s1/bgwo3s.align',\n",
              " 'data/alignments/s1/bgwo4p.align',\n",
              " 'data/alignments/s1/bgwo5a.align',\n",
              " 'data/alignments/s1/bgwu6n.align',\n",
              " 'data/alignments/s1/bgwu7s.align',\n",
              " 'data/alignments/s1/bgwu8p.align',\n",
              " 'data/alignments/s1/bgwu9a.align',\n",
              " 'data/alignments/s1/braf8n.align',\n",
              " 'data/alignments/s1/braf9s.align',\n",
              " 'data/alignments/s1/brag1a.align',\n",
              " 'data/alignments/s1/bragzp.align',\n",
              " 'data/alignments/s1/bram2n.align',\n",
              " 'data/alignments/s1/bram3s.align',\n",
              " 'data/alignments/s1/bram4p.align',\n",
              " 'data/alignments/s1/bram5a.align',\n",
              " 'data/alignments/s1/bras6n.align',\n",
              " 'data/alignments/s1/bras7s.align',\n",
              " 'data/alignments/s1/bras8p.align',\n",
              " 'data/alignments/s1/bras9a.align',\n",
              " 'data/alignments/s1/brba1a.align',\n",
              " 'data/alignments/s1/brbazp.align',\n",
              " 'data/alignments/s1/brbg2n.align',\n",
              " 'data/alignments/s1/brbg3s.align',\n",
              " 'data/alignments/s1/brbg4p.align',\n",
              " 'data/alignments/s1/brbg5a.align',\n",
              " 'data/alignments/s1/brbm6n.align',\n",
              " 'data/alignments/s1/brbm7s.align',\n",
              " 'data/alignments/s1/brbm8p.align',\n",
              " 'data/alignments/s1/brbm9a.align',\n",
              " 'data/alignments/s1/brbt1s.align',\n",
              " 'data/alignments/s1/brbt2p.align',\n",
              " 'data/alignments/s1/brbt3a.align',\n",
              " 'data/alignments/s1/brbtzn.align',\n",
              " 'data/alignments/s1/brif4n.align',\n",
              " 'data/alignments/s1/brif5s.align',\n",
              " 'data/alignments/s1/brif6p.align',\n",
              " 'data/alignments/s1/brif7a.align',\n",
              " 'data/alignments/s1/bril8n.align',\n",
              " 'data/alignments/s1/bril9s.align',\n",
              " 'data/alignments/s1/brim1a.align',\n",
              " 'data/alignments/s1/brimzp.align',\n",
              " 'data/alignments/s1/bris2n.align',\n",
              " 'data/alignments/s1/bris3s.align',\n",
              " 'data/alignments/s1/bris4p.align',\n",
              " 'data/alignments/s1/bris5a.align',\n",
              " 'data/alignments/s1/briz6n.align',\n",
              " 'data/alignments/s1/briz7s.align',\n",
              " 'data/alignments/s1/briz8p.align',\n",
              " 'data/alignments/s1/briz9a.align',\n",
              " 'data/alignments/s1/brwa2n.align',\n",
              " 'data/alignments/s1/brwa3s.align',\n",
              " 'data/alignments/s1/brwa4p.align',\n",
              " 'data/alignments/s1/brwa5a.align',\n",
              " 'data/alignments/s1/brwg6n.align',\n",
              " 'data/alignments/s1/brwg7s.align',\n",
              " 'data/alignments/s1/brwg8p.align',\n",
              " 'data/alignments/s1/brwg9a.align',\n",
              " 'data/alignments/s1/brwn1s.align',\n",
              " 'data/alignments/s1/brwn2p.align',\n",
              " 'data/alignments/s1/brwn3a.align',\n",
              " 'data/alignments/s1/brwnzn.align',\n",
              " 'data/alignments/s1/brwt4n.align',\n",
              " 'data/alignments/s1/brwt5s.align',\n",
              " 'data/alignments/s1/brwt6p.align',\n",
              " 'data/alignments/s1/brwt7a.align',\n",
              " 'data/alignments/s1/bwaa1s.align',\n",
              " 'data/alignments/s1/bwaa2p.align',\n",
              " 'data/alignments/s1/bwaa3a.align',\n",
              " 'data/alignments/s1/bwaazn.align',\n",
              " 'data/alignments/s1/bwag4n.align',\n",
              " 'data/alignments/s1/bwag5s.align',\n",
              " 'data/alignments/s1/bwag6p.align',\n",
              " 'data/alignments/s1/bwag7a.align',\n",
              " 'data/alignments/s1/bwam8n.align',\n",
              " 'data/alignments/s1/bwam9s.align',\n",
              " 'data/alignments/s1/bwan1a.align',\n",
              " 'data/alignments/s1/bwanzp.align',\n",
              " 'data/alignments/s1/bwat2n.align',\n",
              " 'data/alignments/s1/bwat3s.align',\n",
              " 'data/alignments/s1/bwat4p.align',\n",
              " 'data/alignments/s1/bwat5a.align',\n",
              " 'data/alignments/s1/bwba4n.align',\n",
              " 'data/alignments/s1/bwba5s.align',\n",
              " 'data/alignments/s1/bwba6p.align',\n",
              " 'data/alignments/s1/bwba7a.align',\n",
              " 'data/alignments/s1/bwbg8n.align',\n",
              " 'data/alignments/s1/bwbg9s.align',\n",
              " 'data/alignments/s1/bwbh1a.align',\n",
              " 'data/alignments/s1/bwbhzp.align',\n",
              " 'data/alignments/s1/bwbn2n.align',\n",
              " 'data/alignments/s1/bwbn3s.align',\n",
              " 'data/alignments/s1/bwbn4p.align',\n",
              " 'data/alignments/s1/bwbn5a.align',\n",
              " 'data/alignments/s1/bwbt6n.align',\n",
              " 'data/alignments/s1/bwbt7s.align',\n",
              " 'data/alignments/s1/bwbt8p.align',\n",
              " 'data/alignments/s1/bwbt9a.align',\n",
              " 'data/alignments/s1/bwig1s.align',\n",
              " 'data/alignments/s1/bwig2p.align',\n",
              " 'data/alignments/s1/bwig3a.align',\n",
              " 'data/alignments/s1/bwigzn.align',\n",
              " 'data/alignments/s1/bwim4n.align',\n",
              " 'data/alignments/s1/bwim5s.align',\n",
              " 'data/alignments/s1/bwim6p.align',\n",
              " 'data/alignments/s1/bwim7a.align',\n",
              " 'data/alignments/s1/bwis8n.align',\n",
              " 'data/alignments/s1/bwis9s.align',\n",
              " 'data/alignments/s1/bwit1a.align',\n",
              " 'data/alignments/s1/bwitzp.align',\n",
              " 'data/alignments/s1/bwwa8n.align',\n",
              " 'data/alignments/s1/bwwa9s.align',\n",
              " 'data/alignments/s1/bwwb1a.align',\n",
              " 'data/alignments/s1/bwwbzp.align',\n",
              " 'data/alignments/s1/bwwh2n.align',\n",
              " 'data/alignments/s1/bwwh3s.align',\n",
              " 'data/alignments/s1/bwwh4p.align',\n",
              " 'data/alignments/s1/bwwh5a.align',\n",
              " 'data/alignments/s1/bwwn6n.align',\n",
              " 'data/alignments/s1/bwwn7s.align',\n",
              " 'data/alignments/s1/bwwn8p.align',\n",
              " 'data/alignments/s1/bwwn9a.align',\n",
              " 'data/alignments/s1/bwwu1s.align',\n",
              " 'data/alignments/s1/bwwu2p.align',\n",
              " 'data/alignments/s1/bwwu3a.align',\n",
              " 'data/alignments/s1/bwwuzn.align',\n",
              " 'data/alignments/s1/lbad6n.align',\n",
              " 'data/alignments/s1/lbad7s.align',\n",
              " 'data/alignments/s1/lbad8p.align',\n",
              " 'data/alignments/s1/lbad9a.align',\n",
              " 'data/alignments/s1/lbak1s.align',\n",
              " 'data/alignments/s1/lbak2p.align',\n",
              " 'data/alignments/s1/lbak3a.align',\n",
              " 'data/alignments/s1/lbakzn.align',\n",
              " 'data/alignments/s1/lbaq4n.align',\n",
              " 'data/alignments/s1/lbaq5s.align',\n",
              " 'data/alignments/s1/lbaq6p.align',\n",
              " 'data/alignments/s1/lbaq7a.align',\n",
              " 'data/alignments/s1/lbax8n.align',\n",
              " 'data/alignments/s1/lbax9s.align',\n",
              " 'data/alignments/s1/lbay1a.align',\n",
              " 'data/alignments/s1/lbayzp.align',\n",
              " 'data/alignments/s1/lbbe1s.align',\n",
              " 'data/alignments/s1/lbbe2p.align',\n",
              " 'data/alignments/s1/lbbe3a.align',\n",
              " 'data/alignments/s1/lbbezn.align',\n",
              " 'data/alignments/s1/lbbk4n.align',\n",
              " 'data/alignments/s1/lbbk5s.align',\n",
              " 'data/alignments/s1/lbbk6p.align',\n",
              " 'data/alignments/s1/lbbk7a.align',\n",
              " 'data/alignments/s1/lbbq8n.align',\n",
              " 'data/alignments/s1/lbbq9s.align',\n",
              " 'data/alignments/s1/lbbr1a.align',\n",
              " 'data/alignments/s1/lbbrzp.align',\n",
              " 'data/alignments/s1/lbby2n.align',\n",
              " 'data/alignments/s1/lbby3s.align',\n",
              " 'data/alignments/s1/lbby4p.align',\n",
              " 'data/alignments/s1/lbby5a.align',\n",
              " 'data/alignments/s1/lbid2n.align',\n",
              " 'data/alignments/s1/lbid3s.align',\n",
              " 'data/alignments/s1/lbid4p.align',\n",
              " 'data/alignments/s1/lbid5a.align',\n",
              " 'data/alignments/s1/lbij6n.align',\n",
              " 'data/alignments/s1/lbij7s.align',\n",
              " 'data/alignments/s1/lbij8p.align',\n",
              " 'data/alignments/s1/lbij9a.align',\n",
              " 'data/alignments/s1/lbiq1s.align',\n",
              " 'data/alignments/s1/lbiq2p.align',\n",
              " 'data/alignments/s1/lbiq3a.align',\n",
              " 'data/alignments/s1/lbiqzn.align',\n",
              " 'data/alignments/s1/lbix4n.align',\n",
              " 'data/alignments/s1/lbix5s.align',\n",
              " 'data/alignments/s1/lbix6p.align',\n",
              " 'data/alignments/s1/lbix7a.align',\n",
              " 'data/alignments/s1/lbwe4n.align',\n",
              " 'data/alignments/s1/lbwe5s.align',\n",
              " 'data/alignments/s1/lbwe6p.align',\n",
              " 'data/alignments/s1/lbwe7a.align',\n",
              " 'data/alignments/s1/lbwk8n.align',\n",
              " 'data/alignments/s1/lbwk9s.align',\n",
              " 'data/alignments/s1/lbwl1a.align',\n",
              " 'data/alignments/s1/lbwlzp.align',\n",
              " 'data/alignments/s1/lbwr2n.align',\n",
              " 'data/alignments/s1/lbwr3s.align',\n",
              " 'data/alignments/s1/lbwr4p.align',\n",
              " 'data/alignments/s1/lbwr5a.align',\n",
              " 'data/alignments/s1/lbwy6n.align',\n",
              " 'data/alignments/s1/lbwy7s.align',\n",
              " 'data/alignments/s1/lbwy8p.align',\n",
              " 'data/alignments/s1/lbwy9a.align',\n",
              " 'data/alignments/s1/lgaf4n.align',\n",
              " 'data/alignments/s1/lgaf5s.align',\n",
              " 'data/alignments/s1/lgaf6p.align',\n",
              " 'data/alignments/s1/lgaf7a.align',\n",
              " 'data/alignments/s1/lgal8n.align',\n",
              " 'data/alignments/s1/lgal9s.align',\n",
              " 'data/alignments/s1/lgam1a.align',\n",
              " 'data/alignments/s1/lgamzp.align',\n",
              " 'data/alignments/s1/lgas2n.align',\n",
              " 'data/alignments/s1/lgas3s.align',\n",
              " 'data/alignments/s1/lgas4p.align',\n",
              " 'data/alignments/s1/lgas5a.align',\n",
              " 'data/alignments/s1/lgaz6n.align',\n",
              " 'data/alignments/s1/lgaz7s.align',\n",
              " 'data/alignments/s1/lgaz8p.align',\n",
              " 'data/alignments/s1/lgaz9a.align',\n",
              " 'data/alignments/s1/lgbf8n.align',\n",
              " 'data/alignments/s1/lgbf9s.align',\n",
              " 'data/alignments/s1/lgbg1a.align',\n",
              " 'data/alignments/s1/lgbgzp.align',\n",
              " 'data/alignments/s1/lgbm2n.align',\n",
              " 'data/alignments/s1/lgbm3s.align',\n",
              " 'data/alignments/s1/lgbm4p.align',\n",
              " 'data/alignments/s1/lgbm5a.align',\n",
              " 'data/alignments/s1/lgbs6n.align',\n",
              " 'data/alignments/s1/lgbs7s.align',\n",
              " 'data/alignments/s1/lgbs8p.align',\n",
              " 'data/alignments/s1/lgbs9a.align',\n",
              " 'data/alignments/s1/lgif1s.align',\n",
              " 'data/alignments/s1/lgif2p.align',\n",
              " 'data/alignments/s1/lgif3a.align',\n",
              " 'data/alignments/s1/lgifzn.align',\n",
              " 'data/alignments/s1/lgil4n.align',\n",
              " 'data/alignments/s1/lgil5s.align',\n",
              " 'data/alignments/s1/lgil6p.align',\n",
              " 'data/alignments/s1/lgil7a.align',\n",
              " 'data/alignments/s1/lgir8n.align',\n",
              " 'data/alignments/s1/lgir9s.align',\n",
              " 'data/alignments/s1/lgis1a.align',\n",
              " 'data/alignments/s1/lgiszp.align',\n",
              " 'data/alignments/s1/lgiz2n.align',\n",
              " 'data/alignments/s1/lgiz3s.align',\n",
              " 'data/alignments/s1/lgiz4p.align',\n",
              " 'data/alignments/s1/lgiz5a.align',\n",
              " 'data/alignments/s1/lgwa1a.align',\n",
              " 'data/alignments/s1/lgwazp.align',\n",
              " 'data/alignments/s1/lgwg2n.align',\n",
              " 'data/alignments/s1/lgwg3s.align',\n",
              " 'data/alignments/s1/lgwg4p.align',\n",
              " 'data/alignments/s1/lgwg5a.align',\n",
              " 'data/alignments/s1/lgwm6n.align',\n",
              " 'data/alignments/s1/lgwm7s.align',\n",
              " 'data/alignments/s1/lgwm8p.align',\n",
              " 'data/alignments/s1/lgwm9a.align',\n",
              " 'data/alignments/s1/lgwt1s.align',\n",
              " 'data/alignments/s1/lgwt2p.align',\n",
              " 'data/alignments/s1/lgwt3a.align',\n",
              " 'data/alignments/s1/lgwtzn.align',\n",
              " 'data/alignments/s1/lrae2n.align',\n",
              " 'data/alignments/s1/lrae3s.align',\n",
              " 'data/alignments/s1/lrae4p.align',\n",
              " 'data/alignments/s1/lrae5a.align',\n",
              " 'data/alignments/s1/lrak6n.align',\n",
              " 'data/alignments/s1/lrak7s.align',\n",
              " 'data/alignments/s1/lrak8p.align',\n",
              " 'data/alignments/s1/lrak9a.align',\n",
              " 'data/alignments/s1/lrar1s.align',\n",
              " 'data/alignments/s1/lrar2p.align',\n",
              " 'data/alignments/s1/lrar3a.align',\n",
              " 'data/alignments/s1/lrarzn.align',\n",
              " 'data/alignments/s1/lray4n.align',\n",
              " 'data/alignments/s1/lray5s.align',\n",
              " 'data/alignments/s1/lray6p.align',\n",
              " 'data/alignments/s1/lray7a.align',\n",
              " 'data/alignments/s1/lrbe6n.align',\n",
              " 'data/alignments/s1/lrbe7s.align',\n",
              " 'data/alignments/s1/lrbe8p.align',\n",
              " 'data/alignments/s1/lrbe9a.align',\n",
              " 'data/alignments/s1/lrbl1s.align',\n",
              " 'data/alignments/s1/lrbl2p.align',\n",
              " 'data/alignments/s1/lrbl3a.align',\n",
              " 'data/alignments/s1/lrblzn.align',\n",
              " 'data/alignments/s1/lrbr4n.align',\n",
              " 'data/alignments/s1/lrbr5s.align',\n",
              " 'data/alignments/s1/lrbr6p.align',\n",
              " 'data/alignments/s1/lrbr7a.align',\n",
              " 'data/alignments/s1/lrby8n.align',\n",
              " 'data/alignments/s1/lrby9s.align',\n",
              " 'data/alignments/s1/lrbz1a.align',\n",
              " 'data/alignments/s1/lrbzzp.align',\n",
              " 'data/alignments/s1/lrid8n.align',\n",
              " 'data/alignments/s1/lrid9s.align',\n",
              " 'data/alignments/s1/lrie1a.align',\n",
              " 'data/alignments/s1/lriezp.align',\n",
              " 'data/alignments/s1/lrik2n.align',\n",
              " 'data/alignments/s1/lrik3s.align',\n",
              " 'data/alignments/s1/lrik4p.align',\n",
              " 'data/alignments/s1/lrik5a.align',\n",
              " 'data/alignments/s1/lriq6n.align',\n",
              " 'data/alignments/s1/lriq7s.align',\n",
              " 'data/alignments/s1/lriq8p.align',\n",
              " 'data/alignments/s1/lriq9a.align',\n",
              " 'data/alignments/s1/lriy1s.align',\n",
              " 'data/alignments/s1/lriy2p.align',\n",
              " 'data/alignments/s1/lriy3a.align',\n",
              " 'data/alignments/s1/lriyzn.align',\n",
              " 'data/alignments/s1/lrwf1s.align',\n",
              " 'data/alignments/s1/lrwf2p.align',\n",
              " 'data/alignments/s1/lrwf3a.align',\n",
              " 'data/alignments/s1/lrwfzn.align',\n",
              " 'data/alignments/s1/lrwl4n.align',\n",
              " 'data/alignments/s1/lrwl5s.align',\n",
              " 'data/alignments/s1/lrwl6p.align',\n",
              " 'data/alignments/s1/lrwl7a.align',\n",
              " 'data/alignments/s1/lrwr8n.align',\n",
              " 'data/alignments/s1/lrwr9s.align',\n",
              " 'data/alignments/s1/lrws1a.align',\n",
              " 'data/alignments/s1/lrwszp.align',\n",
              " 'data/alignments/s1/lrwz2n.align',\n",
              " 'data/alignments/s1/lrwz3s.align',\n",
              " 'data/alignments/s1/lrwz4p.align',\n",
              " 'data/alignments/s1/lrwz5a.align',\n",
              " 'data/alignments/s1/lwae8n.align',\n",
              " 'data/alignments/s1/lwae9s.align',\n",
              " 'data/alignments/s1/lwaf1a.align',\n",
              " 'data/alignments/s1/lwafzp.align',\n",
              " 'data/alignments/s1/lwal2n.align',\n",
              " 'data/alignments/s1/lwal3s.align',\n",
              " 'data/alignments/s1/lwal4p.align',\n",
              " 'data/alignments/s1/lwal5a.align',\n",
              " 'data/alignments/s1/lwar6n.align',\n",
              " 'data/alignments/s1/lwar7s.align',\n",
              " 'data/alignments/s1/lwar8p.align',\n",
              " 'data/alignments/s1/lwar9a.align',\n",
              " 'data/alignments/s1/lwaz1s.align',\n",
              " 'data/alignments/s1/lwaz2p.align',\n",
              " 'data/alignments/s1/lwaz3a.align',\n",
              " 'data/alignments/s1/lwazzn.align',\n",
              " 'data/alignments/s1/lwbf2n.align',\n",
              " 'data/alignments/s1/lwbf3s.align',\n",
              " 'data/alignments/s1/lwbf4p.align',\n",
              " 'data/alignments/s1/lwbf5a.align',\n",
              " 'data/alignments/s1/lwbl6n.align',\n",
              " 'data/alignments/s1/lwbl7s.align',\n",
              " 'data/alignments/s1/lwbl8p.align',\n",
              " 'data/alignments/s1/lwbl9a.align',\n",
              " 'data/alignments/s1/lwbs1s.align',\n",
              " 'data/alignments/s1/lwbs2p.align',\n",
              " 'data/alignments/s1/lwbs3a.align',\n",
              " 'data/alignments/s1/lwbszn.align',\n",
              " 'data/alignments/s1/lwbz4n.align',\n",
              " 'data/alignments/s1/lwbz5s.align',\n",
              " 'data/alignments/s1/lwbz6p.align',\n",
              " 'data/alignments/s1/lwbz7a.align',\n",
              " 'data/alignments/s1/lwie4n.align',\n",
              " 'data/alignments/s1/lwie5s.align',\n",
              " 'data/alignments/s1/lwie6p.align',\n",
              " 'data/alignments/s1/lwie7a.align',\n",
              " 'data/alignments/s1/lwik8n.align',\n",
              " 'data/alignments/s1/lwik9s.align',\n",
              " 'data/alignments/s1/lwil1a.align',\n",
              " 'data/alignments/s1/lwilzp.align',\n",
              " 'data/alignments/s1/lwir2n.align',\n",
              " 'data/alignments/s1/lwir3s.align',\n",
              " 'data/alignments/s1/lwir4p.align',\n",
              " 'data/alignments/s1/lwir5a.align',\n",
              " 'data/alignments/s1/lwiy6n.align',\n",
              " 'data/alignments/s1/lwiy7s.align',\n",
              " 'data/alignments/s1/lwiy8p.align',\n",
              " 'data/alignments/s1/lwiy9a.align',\n",
              " 'data/alignments/s1/lwwf6n.align',\n",
              " 'data/alignments/s1/lwwf7s.align',\n",
              " 'data/alignments/s1/lwwf8p.align',\n",
              " 'data/alignments/s1/lwwf9a.align',\n",
              " 'data/alignments/s1/lwwi8n.align',\n",
              " 'data/alignments/s1/lwwi9s.align',\n",
              " 'data/alignments/s1/lwwj1a.align',\n",
              " 'data/alignments/s1/lwwjzp.align',\n",
              " 'data/alignments/s1/lwwm1s.align',\n",
              " 'data/alignments/s1/lwwm2p.align',\n",
              " 'data/alignments/s1/lwwm3a.align',\n",
              " 'data/alignments/s1/lwwmzn.align',\n",
              " 'data/alignments/s1/lwwp2n.align',\n",
              " 'data/alignments/s1/lwwp3s.align',\n",
              " 'data/alignments/s1/lwwp4p.align',\n",
              " 'data/alignments/s1/lwwp5a.align',\n",
              " 'data/alignments/s1/lwws4n.align',\n",
              " 'data/alignments/s1/lwws5s.align',\n",
              " 'data/alignments/s1/lwws6p.align',\n",
              " 'data/alignments/s1/lwws7a.align',\n",
              " 'data/alignments/s1/lwwv6n.align',\n",
              " 'data/alignments/s1/lwwv7s.align',\n",
              " 'data/alignments/s1/lwwv8p.align',\n",
              " 'data/alignments/s1/lwwv9a.align',\n",
              " 'data/alignments/s1/lwwz8n.align',\n",
              " 'data/alignments/s1/lwwz9s.align',\n",
              " 'data/alignments/s1/pbac1s.align',\n",
              " 'data/alignments/s1/pbac2p.align',\n",
              " 'data/alignments/s1/pbac3a.align',\n",
              " 'data/alignments/s1/pbaczn.align',\n",
              " 'data/alignments/s1/pbaf2n.align',\n",
              " 'data/alignments/s1/pbaf3s.align',\n",
              " 'data/alignments/s1/pbaf4p.align',\n",
              " 'data/alignments/s1/pbaf5a.align',\n",
              " 'data/alignments/s1/pbai4n.align',\n",
              " 'data/alignments/s1/pbai5s.align',\n",
              " 'data/alignments/s1/pbai6p.align',\n",
              " 'data/alignments/s1/pbai7a.align',\n",
              " 'data/alignments/s1/pbal6n.align',\n",
              " 'data/alignments/s1/pbal7s.align',\n",
              " 'data/alignments/s1/pbal8p.align',\n",
              " 'data/alignments/s1/pbal9a.align',\n",
              " 'data/alignments/s1/pbao8n.align',\n",
              " 'data/alignments/s1/pbao9s.align',\n",
              " 'data/alignments/s1/pbap1a.align',\n",
              " 'data/alignments/s1/pbapzp.align',\n",
              " 'data/alignments/s1/pbas1s.align',\n",
              " 'data/alignments/s1/pbas2p.align',\n",
              " 'data/alignments/s1/pbas3a.align',\n",
              " 'data/alignments/s1/pbaszn.align',\n",
              " 'data/alignments/s1/pbaz4n.align',\n",
              " 'data/alignments/s1/pbaz5s.align',\n",
              " 'data/alignments/s1/pbaz6p.align',\n",
              " 'data/alignments/s1/pbaz7a.align',\n",
              " 'data/alignments/s1/pbbf6n.align',\n",
              " 'data/alignments/s1/pbbf7s.align',\n",
              " 'data/alignments/s1/pbbf8p.align',\n",
              " 'data/alignments/s1/pbbf9a.align',\n",
              " 'data/alignments/s1/pbbm1s.align',\n",
              " 'data/alignments/s1/pbbm2p.align',\n",
              " 'data/alignments/s1/pbbm3a.align',\n",
              " 'data/alignments/s1/pbbmzn.align',\n",
              " 'data/alignments/s1/pbbs4n.align',\n",
              " 'data/alignments/s1/pbbs5s.align',\n",
              " 'data/alignments/s1/pbbs6p.align',\n",
              " 'data/alignments/s1/pbbs7a.align',\n",
              " 'data/alignments/s1/pbbz8n.align',\n",
              " 'data/alignments/s1/pbbz9s.align',\n",
              " 'data/alignments/s1/pbie8n.align',\n",
              " 'data/alignments/s1/pbie9s.align',\n",
              " 'data/alignments/s1/pbif1a.align',\n",
              " 'data/alignments/s1/pbifzp.align',\n",
              " 'data/alignments/s1/pbil2n.align',\n",
              " 'data/alignments/s1/pbil3s.align',\n",
              " 'data/alignments/s1/pbil4p.align',\n",
              " 'data/alignments/s1/pbil5a.align',\n",
              " 'data/alignments/s1/pbir6n.align',\n",
              " 'data/alignments/s1/pbir7s.align',\n",
              " 'data/alignments/s1/pbir8p.align',\n",
              " 'data/alignments/s1/pbir9a.align',\n",
              " 'data/alignments/s1/pbiz1s.align',\n",
              " 'data/alignments/s1/pbiz2p.align',\n",
              " 'data/alignments/s1/pbiz3a.align',\n",
              " 'data/alignments/s1/pbizzn.align',\n",
              " 'data/alignments/s1/pbwg1s.align',\n",
              " 'data/alignments/s1/pbwg2p.align',\n",
              " 'data/alignments/s1/pbwg3a.align',\n",
              " 'data/alignments/s1/pbwgzn.align',\n",
              " 'data/alignments/s1/pbwm4n.align',\n",
              " 'data/alignments/s1/pbwm5s.align',\n",
              " 'data/alignments/s1/pbwm6p.align',\n",
              " 'data/alignments/s1/pbwm7a.align',\n",
              " 'data/alignments/s1/pbws8n.align',\n",
              " 'data/alignments/s1/pbws9s.align',\n",
              " 'data/alignments/s1/pbwt1a.align',\n",
              " 'data/alignments/s1/pbwtzp.align',\n",
              " 'data/alignments/s1/pgaa6n.align',\n",
              " 'data/alignments/s1/pgaa7s.align',\n",
              " 'data/alignments/s1/pgaa8p.align',\n",
              " 'data/alignments/s1/pgaa9a.align',\n",
              " 'data/alignments/s1/pgah1s.align',\n",
              " 'data/alignments/s1/pgah2p.align',\n",
              " 'data/alignments/s1/pgah3a.align',\n",
              " 'data/alignments/s1/pgahzn.align',\n",
              " 'data/alignments/s1/pgan4n.align',\n",
              " 'data/alignments/s1/pgan5s.align',\n",
              " 'data/alignments/s1/pgan6p.align',\n",
              " 'data/alignments/s1/pgan7a.align',\n",
              " 'data/alignments/s1/pgat8n.align',\n",
              " 'data/alignments/s1/pgat9s.align',\n",
              " 'data/alignments/s1/pgau1a.align',\n",
              " 'data/alignments/s1/pgauzp.align',\n",
              " 'data/alignments/s1/pgbb1s.align',\n",
              " 'data/alignments/s1/pgbb2p.align',\n",
              " 'data/alignments/s1/pgbb3a.align',\n",
              " 'data/alignments/s1/pgbbzn.align',\n",
              " 'data/alignments/s1/pgbh4n.align',\n",
              " 'data/alignments/s1/pgbh5s.align',\n",
              " 'data/alignments/s1/pgbh6p.align',\n",
              " 'data/alignments/s1/pgbh7a.align',\n",
              " 'data/alignments/s1/pgbn8n.align',\n",
              " 'data/alignments/s1/pgbn9s.align',\n",
              " 'data/alignments/s1/pgbo1a.align',\n",
              " 'data/alignments/s1/pgbozp.align',\n",
              " 'data/alignments/s1/pgbu2n.align',\n",
              " 'data/alignments/s1/pgbu3s.align',\n",
              " 'data/alignments/s1/pgbu4p.align',\n",
              " 'data/alignments/s1/pgbu5a.align',\n",
              " 'data/alignments/s1/pgia2n.align',\n",
              " 'data/alignments/s1/pgia3s.align',\n",
              " 'data/alignments/s1/pgia4p.align',\n",
              " 'data/alignments/s1/pgia5a.align',\n",
              " 'data/alignments/s1/pgig6n.align',\n",
              " 'data/alignments/s1/pgig7s.align',\n",
              " 'data/alignments/s1/pgig8p.align',\n",
              " 'data/alignments/s1/pgig9a.align',\n",
              " 'data/alignments/s1/pgin1s.align',\n",
              " 'data/alignments/s1/pgin2p.align',\n",
              " 'data/alignments/s1/pgin3a.align',\n",
              " 'data/alignments/s1/pginzn.align',\n",
              " 'data/alignments/s1/pgit4n.align',\n",
              " 'data/alignments/s1/pgit5s.align',\n",
              " 'data/alignments/s1/pgit6p.align',\n",
              " 'data/alignments/s1/pgit7a.align',\n",
              " 'data/alignments/s1/pgwb4n.align',\n",
              " 'data/alignments/s1/pgwb5s.align',\n",
              " 'data/alignments/s1/pgwb6p.align',\n",
              " 'data/alignments/s1/pgwb7a.align',\n",
              " 'data/alignments/s1/pgwh8n.align',\n",
              " 'data/alignments/s1/pgwh9s.align',\n",
              " 'data/alignments/s1/pgwi1a.align',\n",
              " 'data/alignments/s1/pgwizp.align',\n",
              " 'data/alignments/s1/pgwo2n.align',\n",
              " 'data/alignments/s1/pgwo3s.align',\n",
              " 'data/alignments/s1/pgwo4p.align',\n",
              " 'data/alignments/s1/pgwo5a.align',\n",
              " 'data/alignments/s1/pgwu6n.align',\n",
              " 'data/alignments/s1/pgwu7s.align',\n",
              " 'data/alignments/s1/pgwu8p.align',\n",
              " 'data/alignments/s1/pgwu9a.align',\n",
              " 'data/alignments/s1/praf8n.align',\n",
              " 'data/alignments/s1/praf9s.align',\n",
              " 'data/alignments/s1/prag1a.align',\n",
              " 'data/alignments/s1/pragzp.align',\n",
              " 'data/alignments/s1/pram2n.align',\n",
              " 'data/alignments/s1/pram3s.align',\n",
              " 'data/alignments/s1/pram4p.align',\n",
              " 'data/alignments/s1/pram5a.align',\n",
              " 'data/alignments/s1/pras6n.align',\n",
              " 'data/alignments/s1/pras7s.align',\n",
              " 'data/alignments/s1/pras8p.align',\n",
              " 'data/alignments/s1/pras9a.align',\n",
              " 'data/alignments/s1/prba1a.align',\n",
              " 'data/alignments/s1/prbazp.align',\n",
              " 'data/alignments/s1/prbg2n.align',\n",
              " 'data/alignments/s1/prbg3s.align',\n",
              " 'data/alignments/s1/prbg4p.align',\n",
              " 'data/alignments/s1/prbg5a.align',\n",
              " 'data/alignments/s1/prbm6n.align',\n",
              " 'data/alignments/s1/prbm7s.align',\n",
              " 'data/alignments/s1/prbm8p.align',\n",
              " 'data/alignments/s1/prbm9a.align',\n",
              " 'data/alignments/s1/prbt1s.align',\n",
              " 'data/alignments/s1/prbt2p.align',\n",
              " 'data/alignments/s1/prbt3a.align',\n",
              " 'data/alignments/s1/prbtzn.align',\n",
              " 'data/alignments/s1/prif4n.align',\n",
              " 'data/alignments/s1/prif5s.align',\n",
              " 'data/alignments/s1/prif6p.align',\n",
              " 'data/alignments/s1/prif7a.align',\n",
              " 'data/alignments/s1/pril8n.align',\n",
              " 'data/alignments/s1/pril9s.align',\n",
              " 'data/alignments/s1/prim1a.align',\n",
              " 'data/alignments/s1/primzp.align',\n",
              " 'data/alignments/s1/pris2n.align',\n",
              " 'data/alignments/s1/pris3s.align',\n",
              " 'data/alignments/s1/pris4p.align',\n",
              " 'data/alignments/s1/pris5a.align',\n",
              " 'data/alignments/s1/priz6n.align',\n",
              " 'data/alignments/s1/priz7s.align',\n",
              " 'data/alignments/s1/priz8p.align',\n",
              " 'data/alignments/s1/priz9a.align',\n",
              " 'data/alignments/s1/prwa2n.align',\n",
              " 'data/alignments/s1/prwa3s.align',\n",
              " 'data/alignments/s1/prwa4p.align',\n",
              " 'data/alignments/s1/prwa5a.align',\n",
              " 'data/alignments/s1/prwg6n.align',\n",
              " 'data/alignments/s1/prwg7s.align',\n",
              " 'data/alignments/s1/prwg8p.align',\n",
              " 'data/alignments/s1/prwg9a.align',\n",
              " 'data/alignments/s1/prwn1s.align',\n",
              " 'data/alignments/s1/prwn2p.align',\n",
              " 'data/alignments/s1/prwn3a.align',\n",
              " 'data/alignments/s1/prwnzn.align',\n",
              " 'data/alignments/s1/prwt4n.align',\n",
              " 'data/alignments/s1/prwt5s.align',\n",
              " 'data/alignments/s1/prwt6p.align',\n",
              " 'data/alignments/s1/prwt7a.align',\n",
              " 'data/alignments/s1/pwaa1s.align',\n",
              " 'data/alignments/s1/pwaa2p.align',\n",
              " 'data/alignments/s1/pwaa3a.align',\n",
              " 'data/alignments/s1/pwaazn.align',\n",
              " 'data/alignments/s1/pwag4n.align',\n",
              " 'data/alignments/s1/pwag5s.align',\n",
              " 'data/alignments/s1/pwag6p.align',\n",
              " 'data/alignments/s1/pwag7a.align',\n",
              " 'data/alignments/s1/pwam8n.align',\n",
              " 'data/alignments/s1/pwam9s.align',\n",
              " 'data/alignments/s1/pwan1a.align',\n",
              " 'data/alignments/s1/pwanzp.align',\n",
              " 'data/alignments/s1/pwat2n.align',\n",
              " 'data/alignments/s1/pwat3s.align',\n",
              " 'data/alignments/s1/pwat4p.align',\n",
              " 'data/alignments/s1/pwat5a.align',\n",
              " 'data/alignments/s1/pwba4n.align',\n",
              " 'data/alignments/s1/pwba5s.align',\n",
              " 'data/alignments/s1/pwba6p.align',\n",
              " 'data/alignments/s1/pwba7a.align',\n",
              " 'data/alignments/s1/pwbg8n.align',\n",
              " 'data/alignments/s1/pwbg9s.align',\n",
              " 'data/alignments/s1/pwbh1a.align',\n",
              " 'data/alignments/s1/pwbhzp.align',\n",
              " 'data/alignments/s1/pwbn2n.align',\n",
              " 'data/alignments/s1/pwbn3s.align',\n",
              " 'data/alignments/s1/pwbn4p.align',\n",
              " 'data/alignments/s1/pwbn5a.align',\n",
              " 'data/alignments/s1/pwbt6n.align',\n",
              " 'data/alignments/s1/pwbt7s.align',\n",
              " 'data/alignments/s1/pwbt8p.align',\n",
              " 'data/alignments/s1/pwbt9a.align',\n",
              " 'data/alignments/s1/pwig1s.align',\n",
              " 'data/alignments/s1/pwig2p.align',\n",
              " 'data/alignments/s1/pwig3a.align',\n",
              " 'data/alignments/s1/pwigzn.align',\n",
              " 'data/alignments/s1/pwim4n.align',\n",
              " 'data/alignments/s1/pwim5s.align',\n",
              " 'data/alignments/s1/pwim6p.align',\n",
              " 'data/alignments/s1/pwim7a.align',\n",
              " 'data/alignments/s1/pwis8n.align',\n",
              " 'data/alignments/s1/pwis9s.align',\n",
              " 'data/alignments/s1/pwit1a.align',\n",
              " 'data/alignments/s1/pwitzp.align',\n",
              " 'data/alignments/s1/pwwa8n.align',\n",
              " 'data/alignments/s1/pwwa9s.align',\n",
              " 'data/alignments/s1/pwwb1a.align',\n",
              " 'data/alignments/s1/pwwbzp.align',\n",
              " 'data/alignments/s1/pwwh2n.align',\n",
              " 'data/alignments/s1/pwwh3s.align',\n",
              " 'data/alignments/s1/pwwh4p.align',\n",
              " 'data/alignments/s1/pwwh5a.align',\n",
              " 'data/alignments/s1/pwwn6n.align',\n",
              " 'data/alignments/s1/pwwn7s.align',\n",
              " 'data/alignments/s1/pwwn8p.align',\n",
              " 'data/alignments/s1/pwwn9a.align',\n",
              " 'data/alignments/s1/pwwu1s.align',\n",
              " 'data/alignments/s1/pwwu2p.align',\n",
              " 'data/alignments/s1/pwwu3a.align',\n",
              " 'data/alignments/s1/pwwuzn.align',\n",
              " 'data/alignments/s1/sbad6n.align',\n",
              " 'data/alignments/s1/sbad7s.align',\n",
              " 'data/alignments/s1/sbad8p.align',\n",
              " 'data/alignments/s1/sbad9a.align',\n",
              " 'data/alignments/s1/sbak1s.align',\n",
              " 'data/alignments/s1/sbak2p.align',\n",
              " 'data/alignments/s1/sbak3a.align',\n",
              " 'data/alignments/s1/sbakzn.align',\n",
              " 'data/alignments/s1/sbaq4n.align',\n",
              " 'data/alignments/s1/sbaq5s.align',\n",
              " 'data/alignments/s1/sbaq6p.align',\n",
              " 'data/alignments/s1/sbaq7a.align',\n",
              " 'data/alignments/s1/sbax8n.align',\n",
              " 'data/alignments/s1/sbax9s.align',\n",
              " 'data/alignments/s1/sbay1a.align',\n",
              " 'data/alignments/s1/sbayzp.align',\n",
              " 'data/alignments/s1/sbbe1s.align',\n",
              " 'data/alignments/s1/sbbe2p.align',\n",
              " 'data/alignments/s1/sbbe3a.align',\n",
              " 'data/alignments/s1/sbbezn.align',\n",
              " 'data/alignments/s1/sbbk4n.align',\n",
              " 'data/alignments/s1/sbbk5s.align',\n",
              " 'data/alignments/s1/sbbk6p.align',\n",
              " 'data/alignments/s1/sbbk7a.align',\n",
              " 'data/alignments/s1/sbbq8n.align',\n",
              " 'data/alignments/s1/sbbq9s.align',\n",
              " 'data/alignments/s1/sbbr1a.align',\n",
              " 'data/alignments/s1/sbbrzp.align',\n",
              " 'data/alignments/s1/sbby2n.align',\n",
              " 'data/alignments/s1/sbby3s.align',\n",
              " 'data/alignments/s1/sbby4p.align',\n",
              " 'data/alignments/s1/sbby5a.align',\n",
              " 'data/alignments/s1/sbid2n.align',\n",
              " 'data/alignments/s1/sbid3s.align',\n",
              " 'data/alignments/s1/sbid4p.align',\n",
              " 'data/alignments/s1/sbid5a.align',\n",
              " 'data/alignments/s1/sbij6n.align',\n",
              " 'data/alignments/s1/sbij7s.align',\n",
              " 'data/alignments/s1/sbij8p.align',\n",
              " 'data/alignments/s1/sbij9a.align',\n",
              " 'data/alignments/s1/sbiq1s.align',\n",
              " 'data/alignments/s1/sbiq2p.align',\n",
              " 'data/alignments/s1/sbiq3a.align',\n",
              " 'data/alignments/s1/sbiqzn.align',\n",
              " 'data/alignments/s1/sbix4n.align',\n",
              " 'data/alignments/s1/sbix5s.align',\n",
              " 'data/alignments/s1/sbix6p.align',\n",
              " 'data/alignments/s1/sbix7a.align',\n",
              " 'data/alignments/s1/sbwe4n.align',\n",
              " 'data/alignments/s1/sbwe5s.align',\n",
              " 'data/alignments/s1/sbwe6p.align',\n",
              " 'data/alignments/s1/sbwe7a.align',\n",
              " 'data/alignments/s1/sbwk8n.align',\n",
              " 'data/alignments/s1/sbwk9s.align',\n",
              " 'data/alignments/s1/sbwl1a.align',\n",
              " 'data/alignments/s1/sbwlzp.align',\n",
              " 'data/alignments/s1/sbwr2n.align',\n",
              " 'data/alignments/s1/sbwr3s.align',\n",
              " 'data/alignments/s1/sbwr4p.align',\n",
              " 'data/alignments/s1/sbwr5a.align',\n",
              " 'data/alignments/s1/sbwy6n.align',\n",
              " 'data/alignments/s1/sbwy7s.align',\n",
              " 'data/alignments/s1/sbwy8p.align',\n",
              " 'data/alignments/s1/sbwy9a.align',\n",
              " 'data/alignments/s1/sgaf4n.align',\n",
              " 'data/alignments/s1/sgaf5s.align',\n",
              " 'data/alignments/s1/sgaf6p.align',\n",
              " 'data/alignments/s1/sgaf7a.align',\n",
              " 'data/alignments/s1/sgal8n.align',\n",
              " 'data/alignments/s1/sgal9s.align',\n",
              " 'data/alignments/s1/sgam1a.align',\n",
              " 'data/alignments/s1/sgamzp.align',\n",
              " 'data/alignments/s1/sgas2n.align',\n",
              " 'data/alignments/s1/sgas3s.align',\n",
              " 'data/alignments/s1/sgas4p.align',\n",
              " 'data/alignments/s1/sgas5a.align',\n",
              " 'data/alignments/s1/sgaz6n.align',\n",
              " 'data/alignments/s1/sgaz7s.align',\n",
              " 'data/alignments/s1/sgaz8p.align',\n",
              " 'data/alignments/s1/sgaz9a.align',\n",
              " 'data/alignments/s1/sgbf8n.align',\n",
              " 'data/alignments/s1/sgbf9s.align',\n",
              " 'data/alignments/s1/sgbg1a.align',\n",
              " 'data/alignments/s1/sgbgzp.align',\n",
              " 'data/alignments/s1/sgbm2n.align',\n",
              " 'data/alignments/s1/sgbm3s.align',\n",
              " 'data/alignments/s1/sgbm4p.align',\n",
              " 'data/alignments/s1/sgbm5a.align',\n",
              " 'data/alignments/s1/sgbs6n.align',\n",
              " 'data/alignments/s1/sgbs7s.align',\n",
              " 'data/alignments/s1/sgbs8p.align',\n",
              " 'data/alignments/s1/sgbs9a.align',\n",
              " 'data/alignments/s1/sgif1s.align',\n",
              " 'data/alignments/s1/sgif2p.align',\n",
              " 'data/alignments/s1/sgif3a.align',\n",
              " 'data/alignments/s1/sgifzn.align',\n",
              " 'data/alignments/s1/sgil4n.align',\n",
              " 'data/alignments/s1/sgil5s.align',\n",
              " 'data/alignments/s1/sgil6p.align',\n",
              " 'data/alignments/s1/sgil7a.align',\n",
              " 'data/alignments/s1/sgir8n.align',\n",
              " 'data/alignments/s1/sgir9s.align',\n",
              " 'data/alignments/s1/sgis1a.align',\n",
              " 'data/alignments/s1/sgiszp.align',\n",
              " 'data/alignments/s1/sgiz2n.align',\n",
              " 'data/alignments/s1/sgiz3s.align',\n",
              " 'data/alignments/s1/sgiz4p.align',\n",
              " 'data/alignments/s1/sgiz5a.align',\n",
              " 'data/alignments/s1/sgwa1a.align',\n",
              " 'data/alignments/s1/sgwazp.align',\n",
              " 'data/alignments/s1/sgwg2n.align',\n",
              " 'data/alignments/s1/sgwg3s.align',\n",
              " 'data/alignments/s1/sgwg4p.align',\n",
              " 'data/alignments/s1/sgwg5a.align',\n",
              " 'data/alignments/s1/sgwm6n.align',\n",
              " 'data/alignments/s1/sgwm7s.align',\n",
              " 'data/alignments/s1/sgwm8p.align',\n",
              " 'data/alignments/s1/sgwm9a.align',\n",
              " 'data/alignments/s1/sgwt1s.align',\n",
              " 'data/alignments/s1/sgwt2p.align',\n",
              " 'data/alignments/s1/sgwt3a.align',\n",
              " 'data/alignments/s1/sgwtzn.align',\n",
              " 'data/alignments/s1/srae2n.align',\n",
              " 'data/alignments/s1/srae3s.align',\n",
              " 'data/alignments/s1/srae4p.align',\n",
              " 'data/alignments/s1/srae5a.align',\n",
              " 'data/alignments/s1/srak6n.align',\n",
              " 'data/alignments/s1/srak7s.align',\n",
              " 'data/alignments/s1/srak8p.align',\n",
              " 'data/alignments/s1/srak9a.align',\n",
              " 'data/alignments/s1/srar1s.align',\n",
              " 'data/alignments/s1/srar2p.align',\n",
              " 'data/alignments/s1/srar3a.align',\n",
              " 'data/alignments/s1/srarzn.align',\n",
              " 'data/alignments/s1/sray4n.align',\n",
              " 'data/alignments/s1/sray5s.align',\n",
              " 'data/alignments/s1/sray6p.align',\n",
              " 'data/alignments/s1/sray7a.align',\n",
              " 'data/alignments/s1/srbe6n.align',\n",
              " 'data/alignments/s1/srbe7s.align',\n",
              " 'data/alignments/s1/srbe8p.align',\n",
              " 'data/alignments/s1/srbe9a.align',\n",
              " 'data/alignments/s1/srbl1s.align',\n",
              " 'data/alignments/s1/srbl2p.align',\n",
              " 'data/alignments/s1/srbl3a.align',\n",
              " 'data/alignments/s1/srblzn.align',\n",
              " 'data/alignments/s1/srbr4n.align',\n",
              " 'data/alignments/s1/srbr5s.align',\n",
              " 'data/alignments/s1/srbr6p.align',\n",
              " 'data/alignments/s1/srbr7a.align',\n",
              " 'data/alignments/s1/srby8n.align',\n",
              " 'data/alignments/s1/srby9s.align',\n",
              " 'data/alignments/s1/srbz1a.align',\n",
              " 'data/alignments/s1/srbzzp.align',\n",
              " 'data/alignments/s1/srid8n.align',\n",
              " 'data/alignments/s1/srid9s.align',\n",
              " 'data/alignments/s1/srie1a.align',\n",
              " 'data/alignments/s1/sriezp.align',\n",
              " 'data/alignments/s1/srik2n.align',\n",
              " 'data/alignments/s1/srik3s.align',\n",
              " 'data/alignments/s1/srik4p.align',\n",
              " 'data/alignments/s1/srik5a.align',\n",
              " 'data/alignments/s1/sriq6n.align',\n",
              " 'data/alignments/s1/sriq7s.align',\n",
              " 'data/alignments/s1/sriq8p.align',\n",
              " 'data/alignments/s1/sriq9a.align',\n",
              " 'data/alignments/s1/sriy1s.align',\n",
              " 'data/alignments/s1/sriy2p.align',\n",
              " 'data/alignments/s1/sriy3a.align',\n",
              " 'data/alignments/s1/sriyzn.align',\n",
              " 'data/alignments/s1/srwf1s.align',\n",
              " 'data/alignments/s1/srwf2p.align',\n",
              " 'data/alignments/s1/srwf3a.align',\n",
              " 'data/alignments/s1/srwfzn.align',\n",
              " 'data/alignments/s1/srwl4n.align',\n",
              " 'data/alignments/s1/srwl5s.align',\n",
              " 'data/alignments/s1/srwl6p.align',\n",
              " 'data/alignments/s1/srwl7a.align',\n",
              " 'data/alignments/s1/srwr8n.align',\n",
              " 'data/alignments/s1/srwr9s.align',\n",
              " 'data/alignments/s1/srws1a.align',\n",
              " 'data/alignments/s1/srwszp.align',\n",
              " 'data/alignments/s1/srwz2n.align',\n",
              " 'data/alignments/s1/srwz3s.align',\n",
              " 'data/alignments/s1/srwz4p.align',\n",
              " 'data/alignments/s1/srwz5a.align',\n",
              " 'data/alignments/s1/swae8n.align',\n",
              " 'data/alignments/s1/swae9s.align',\n",
              " 'data/alignments/s1/swaf1a.align',\n",
              " 'data/alignments/s1/swafzp.align',\n",
              " 'data/alignments/s1/swal2n.align',\n",
              " 'data/alignments/s1/swal3s.align',\n",
              " 'data/alignments/s1/swal4p.align',\n",
              " 'data/alignments/s1/swal5a.align',\n",
              " 'data/alignments/s1/swar6n.align',\n",
              " 'data/alignments/s1/swar7s.align',\n",
              " 'data/alignments/s1/swar8p.align',\n",
              " 'data/alignments/s1/swar9a.align',\n",
              " 'data/alignments/s1/swaz1s.align',\n",
              " 'data/alignments/s1/swaz2p.align',\n",
              " 'data/alignments/s1/swaz3a.align',\n",
              " 'data/alignments/s1/swazzn.align',\n",
              " 'data/alignments/s1/swbf2n.align',\n",
              " 'data/alignments/s1/swbf3s.align',\n",
              " 'data/alignments/s1/swbf4p.align',\n",
              " 'data/alignments/s1/swbf5a.align',\n",
              " 'data/alignments/s1/swbl6n.align',\n",
              " 'data/alignments/s1/swbl7s.align',\n",
              " 'data/alignments/s1/swbl8p.align',\n",
              " 'data/alignments/s1/swbl9a.align',\n",
              " 'data/alignments/s1/swbs1s.align',\n",
              " 'data/alignments/s1/swbs2p.align',\n",
              " 'data/alignments/s1/swbs3a.align',\n",
              " 'data/alignments/s1/swbszn.align',\n",
              " 'data/alignments/s1/swbz4n.align',\n",
              " 'data/alignments/s1/swbz5s.align',\n",
              " 'data/alignments/s1/swbz6p.align',\n",
              " 'data/alignments/s1/swbz7a.align',\n",
              " 'data/alignments/s1/swie4n.align',\n",
              " 'data/alignments/s1/swie5s.align',\n",
              " 'data/alignments/s1/swie6p.align',\n",
              " 'data/alignments/s1/swie7a.align',\n",
              " 'data/alignments/s1/swik8n.align',\n",
              " 'data/alignments/s1/swik9s.align',\n",
              " 'data/alignments/s1/swil1a.align',\n",
              " 'data/alignments/s1/swilzp.align',\n",
              " 'data/alignments/s1/swir2n.align',\n",
              " 'data/alignments/s1/swir3s.align',\n",
              " 'data/alignments/s1/swir4p.align',\n",
              " 'data/alignments/s1/swir5a.align',\n",
              " 'data/alignments/s1/swiy6n.align',\n",
              " 'data/alignments/s1/swiy7s.align',\n",
              " 'data/alignments/s1/swiy8p.align',\n",
              " 'data/alignments/s1/swiy9a.align',\n",
              " 'data/alignments/s1/swwf6n.align',\n",
              " 'data/alignments/s1/swwf7s.align',\n",
              " 'data/alignments/s1/swwf8p.align',\n",
              " 'data/alignments/s1/swwf9a.align',\n",
              " 'data/alignments/s1/swwm1s.align',\n",
              " 'data/alignments/s1/swwm2p.align',\n",
              " 'data/alignments/s1/swwm3a.align',\n",
              " 'data/alignments/s1/swwmzn.align',\n",
              " 'data/alignments/s1/swws4n.align',\n",
              " 'data/alignments/s1/swws5s.align',\n",
              " 'data/alignments/s1/swws6p.align',\n",
              " 'data/alignments/s1/swws7a.align',\n",
              " ...]"
            ]
          },
          "metadata": {},
          "execution_count": 17
        }
      ],
      "source": [
        "# https://drive.google.com/file/d/1Eo3KRafygvcldP2m6O-Ww2fg_f0lxiwJ/view?usp=sharing\n",
        "url = 'https://drive.google.com/uc?id=1Eo3KRafygvcldP2m6O-Ww2fg_f0lxiwJ'\n",
        "output = 'data.zip'\n",
        "gdown.download(url, output, quiet=False)\n",
        "gdown.extractall('data.zip')"
      ]
    },
    {
      "cell_type": "code",
      "execution_count": 18,
      "id": "8548cc59-6dfc-4acc-abc3-3e65212db02e",
      "metadata": {
        "tags": [],
        "id": "8548cc59-6dfc-4acc-abc3-3e65212db02e"
      },
      "outputs": [],
      "source": [
        "def load_video(path:str) -> List[float]:\n",
        "\n",
        "    cap = cv2.VideoCapture(path)\n",
        "    frames = []\n",
        "    for _ in range(int(cap.get(cv2.CAP_PROP_FRAME_COUNT))):\n",
        "        ret, frame = cap.read()\n",
        "        frame = tf.image.rgb_to_grayscale(frame)\n",
        "        frames.append(frame[190:236,80:220,:])\n",
        "    cap.release()\n",
        "\n",
        "    mean = tf.math.reduce_mean(frames)\n",
        "    std = tf.math.reduce_std(tf.cast(frames, tf.float32))\n",
        "    return tf.cast((frames - mean), tf.float32) / std"
      ]
    },
    {
      "cell_type": "code",
      "execution_count": 19,
      "id": "ec735e0b-ec98-4eb0-8f49-c35527d6670a",
      "metadata": {
        "tags": [],
        "id": "ec735e0b-ec98-4eb0-8f49-c35527d6670a"
      },
      "outputs": [],
      "source": [
        "vocab = [x for x in \"abcdefghijklmnopqrstuvwxyz'?!123456789 \"]"
      ]
    },
    {
      "cell_type": "code",
      "execution_count": 20,
      "id": "be04e972-d7a5-4a72-82d8-a6bdde1f3ce6",
      "metadata": {
        "tags": [],
        "id": "be04e972-d7a5-4a72-82d8-a6bdde1f3ce6",
        "colab": {
          "base_uri": "https://localhost:8080/"
        },
        "outputId": "f10bfb6e-6fd4-46ca-a91c-0f91184d56a4"
      },
      "outputs": [
        {
          "output_type": "stream",
          "name": "stdout",
          "text": [
            "The vocabulary is: ['', 'a', 'b', 'c', 'd', 'e', 'f', 'g', 'h', 'i', 'j', 'k', 'l', 'm', 'n', 'o', 'p', 'q', 'r', 's', 't', 'u', 'v', 'w', 'x', 'y', 'z', \"'\", '?', '!', '1', '2', '3', '4', '5', '6', '7', '8', '9', ' '] (size =40)\n"
          ]
        }
      ],
      "source": [
        "char_to_num = tf.keras.layers.StringLookup(vocabulary=vocab, oov_token=\"\")\n",
        "num_to_char = tf.keras.layers.StringLookup(\n",
        "    vocabulary=char_to_num.get_vocabulary(), oov_token=\"\", invert=True\n",
        ")\n",
        "\n",
        "print(\n",
        "    f\"The vocabulary is: {char_to_num.get_vocabulary()} \"\n",
        "    f\"(size ={char_to_num.vocabulary_size()})\"\n",
        ")"
      ]
    },
    {
      "cell_type": "code",
      "execution_count": 21,
      "id": "559f7420-6802-45fa-9ca0-b1ff209b461c",
      "metadata": {
        "tags": [],
        "id": "559f7420-6802-45fa-9ca0-b1ff209b461c",
        "colab": {
          "base_uri": "https://localhost:8080/"
        },
        "outputId": "af3f3538-1651-480b-c9d1-b112ae431561"
      },
      "outputs": [
        {
          "output_type": "execute_result",
          "data": {
            "text/plain": [
              "['',\n",
              " 'a',\n",
              " 'b',\n",
              " 'c',\n",
              " 'd',\n",
              " 'e',\n",
              " 'f',\n",
              " 'g',\n",
              " 'h',\n",
              " 'i',\n",
              " 'j',\n",
              " 'k',\n",
              " 'l',\n",
              " 'm',\n",
              " 'n',\n",
              " 'o',\n",
              " 'p',\n",
              " 'q',\n",
              " 'r',\n",
              " 's',\n",
              " 't',\n",
              " 'u',\n",
              " 'v',\n",
              " 'w',\n",
              " 'x',\n",
              " 'y',\n",
              " 'z',\n",
              " \"'\",\n",
              " '?',\n",
              " '!',\n",
              " '1',\n",
              " '2',\n",
              " '3',\n",
              " '4',\n",
              " '5',\n",
              " '6',\n",
              " '7',\n",
              " '8',\n",
              " '9',\n",
              " ' ']"
            ]
          },
          "metadata": {},
          "execution_count": 21
        }
      ],
      "source": [
        "char_to_num.get_vocabulary()"
      ]
    },
    {
      "cell_type": "code",
      "execution_count": 22,
      "id": "8cd7f4f4-ae77-4509-a4f4-c723787ebad1",
      "metadata": {
        "id": "8cd7f4f4-ae77-4509-a4f4-c723787ebad1",
        "colab": {
          "base_uri": "https://localhost:8080/"
        },
        "outputId": "e8687b7b-8dd4-495d-f373-4bc8fbcd6259"
      },
      "outputs": [
        {
          "output_type": "execute_result",
          "data": {
            "text/plain": [
              "<tf.Tensor: shape=(4,), dtype=string, numpy=array([b'b', b'i', b'c', b'k'], dtype=object)>"
            ]
          },
          "metadata": {},
          "execution_count": 22
        }
      ],
      "source": [
        "num_to_char([2,  9,  3, 11])"
      ]
    },
    {
      "cell_type": "code",
      "execution_count": 23,
      "id": "9491bab5-6a3c-4f79-879a-8f9fbe73ae2e",
      "metadata": {
        "tags": [],
        "id": "9491bab5-6a3c-4f79-879a-8f9fbe73ae2e"
      },
      "outputs": [],
      "source": [
        "def load_alignments(path:str) -> List[str]:\n",
        "    with open(path, 'r') as f:\n",
        "        lines = f.readlines()\n",
        "    tokens = []\n",
        "    for line in lines:\n",
        "        line = line.split()\n",
        "        if line[2] != 'sil':\n",
        "            tokens = [*tokens,' ',line[2]]\n",
        "    return char_to_num(tf.reshape(tf.strings.unicode_split(tokens, input_encoding='UTF-8'), (-1)))[1:]"
      ]
    },
    {
      "cell_type": "code",
      "execution_count": 24,
      "id": "dd01ca9f-77fb-4643-a2aa-47dd82c5d66b",
      "metadata": {
        "tags": [],
        "id": "dd01ca9f-77fb-4643-a2aa-47dd82c5d66b"
      },
      "outputs": [],
      "source": [
        "def load_data(path: str):\n",
        "    path = bytes.decode(path.numpy())\n",
        "    file_name = path.split('/')[-1].split('.')[0]\n",
        "    # File name splitting for windows\n",
        "    # file_name = path.split('\\\\')[-1].split('.')[0]\n",
        "    video_path = os.path.join('data','s1',f'{file_name}.mpg')\n",
        "    alignment_path = os.path.join('data','alignments','s1',f'{file_name}.align')\n",
        "    frames = load_video(video_path)\n",
        "    alignments = load_alignments(alignment_path)\n",
        "\n",
        "    return frames, alignments"
      ]
    },
    {
      "cell_type": "code",
      "execution_count": 25,
      "id": "8cb7cc58-31ae-4904-a805-1177a82717d2",
      "metadata": {
        "tags": [],
        "id": "8cb7cc58-31ae-4904-a805-1177a82717d2"
      },
      "outputs": [],
      "source": [
        "test_path = './/data//s1//bbal6n.mpg'"
      ]
    },
    {
      "cell_type": "code",
      "execution_count": 26,
      "id": "76aa964f-0c84-490d-897a-d00e3966e2c9",
      "metadata": {
        "id": "76aa964f-0c84-490d-897a-d00e3966e2c9",
        "colab": {
          "base_uri": "https://localhost:8080/",
          "height": 35
        },
        "outputId": "657e454e-8d3a-49ae-96e8-c465373a8ba7"
      },
      "outputs": [
        {
          "output_type": "execute_result",
          "data": {
            "text/plain": [
              "'bbal6n'"
            ],
            "application/vnd.google.colaboratory.intrinsic+json": {
              "type": "string"
            }
          },
          "metadata": {},
          "execution_count": 26
        }
      ],
      "source": [
        "tf.convert_to_tensor(test_path).numpy().decode('utf-8').split('//')[-1].split('.')[0]"
      ]
    },
    {
      "cell_type": "code",
      "execution_count": 27,
      "id": "eb602c71-8560-4f9e-b26b-08202febb937",
      "metadata": {
        "scrolled": true,
        "tags": [],
        "id": "eb602c71-8560-4f9e-b26b-08202febb937"
      },
      "outputs": [],
      "source": [
        "frames, alignments = load_data(tf.convert_to_tensor(test_path))"
      ]
    },
    {
      "cell_type": "code",
      "execution_count": 28,
      "id": "0e3184a1-6b02-4b4f-84a8-a0a65f951ea2",
      "metadata": {
        "id": "0e3184a1-6b02-4b4f-84a8-a0a65f951ea2",
        "colab": {
          "base_uri": "https://localhost:8080/",
          "height": 244
        },
        "outputId": "3a234c14-5fbb-42a3-b1fb-2eb3a9472e5c"
      },
      "outputs": [
        {
          "output_type": "execute_result",
          "data": {
            "text/plain": [
              "<matplotlib.image.AxesImage at 0x7a0496613df0>"
            ]
          },
          "metadata": {},
          "execution_count": 28
        },
        {
          "output_type": "display_data",
          "data": {
            "text/plain": [
              "<Figure size 640x480 with 1 Axes>"
            ],
            "image/png": "[encoded data removed]"
          },
          "metadata": {}
        }
      ],
      "source": [
        "plt.imshow(frames[40])"
      ]
    },
    {
      "cell_type": "code",
      "execution_count": 29,
      "id": "d7ec0833-d54b-4073-84cf-92d011c60ec1",
      "metadata": {
        "id": "d7ec0833-d54b-4073-84cf-92d011c60ec1",
        "colab": {
          "base_uri": "https://localhost:8080/"
        },
        "outputId": "c9a0ff40-846c-4a34-f684-5608a85cba3e"
      },
      "outputs": [
        {
          "output_type": "execute_result",
          "data": {
            "text/plain": [
              "<tf.Tensor: shape=(21,), dtype=int64, numpy=\n",
              "array([ 2,  9, 14, 39,  2, 12, 21,  5, 39,  1, 20, 39, 12, 39, 19,  9, 24,\n",
              "       39, 14, 15, 23])>"
            ]
          },
          "metadata": {},
          "execution_count": 29
        }
      ],
      "source": [
        "alignments"
      ]
    },
    {
      "cell_type": "code",
      "execution_count": 30,
      "id": "fe1ad370-b287-4b46-85a2-7c45b0bd9b10",
      "metadata": {
        "id": "fe1ad370-b287-4b46-85a2-7c45b0bd9b10",
        "colab": {
          "base_uri": "https://localhost:8080/"
        },
        "outputId": "d6999f5d-a93e-4a44-a058-a03e3a617f1a"
      },
      "outputs": [
        {
          "output_type": "execute_result",
          "data": {
            "text/plain": [
              "<tf.Tensor: shape=(), dtype=string, numpy=b'bin blue at l six now'>"
            ]
          },
          "metadata": {},
          "execution_count": 30
        }
      ],
      "source": [
        "tf.strings.reduce_join([bytes.decode(x) for x in num_to_char(alignments.numpy()).numpy()])"
      ]
    },
    {
      "cell_type": "code",
      "execution_count": 31,
      "id": "6871031a-b0ba-4c76-a852-f6329b0f2606",
      "metadata": {
        "tags": [],
        "id": "6871031a-b0ba-4c76-a852-f6329b0f2606"
      },
      "outputs": [],
      "source": [
        "def mappable_function(path:str) ->List[str]:\n",
        "    result = tf.py_function(load_data, [path], (tf.float32, tf.int64))\n",
        "    return result"
      ]
    },
    {
      "cell_type": "markdown",
      "id": "c40a7eb4-0c3e-4eab-9291-5611cb68ce08",
      "metadata": {
        "tags": [],
        "id": "c40a7eb4-0c3e-4eab-9291-5611cb68ce08"
      },
      "source": [
        "# 2. Create Data Pipeline"
      ]
    },
    {
      "cell_type": "code",
      "execution_count": 32,
      "id": "7686355d-45aa-4c85-ad9c-053e6a9b4d81",
      "metadata": {
        "tags": [],
        "id": "7686355d-45aa-4c85-ad9c-053e6a9b4d81"
      },
      "outputs": [],
      "source": [
        "from matplotlib import pyplot as plt"
      ]
    },
    {
      "cell_type": "code",
      "execution_count": 33,
      "id": "f066fea2-91b1-42ed-a67d-00566a1a53ff",
      "metadata": {
        "tags": [],
        "id": "f066fea2-91b1-42ed-a67d-00566a1a53ff"
      },
      "outputs": [],
      "source": [
        "data = tf.data.Dataset.list_files('./data/s1/*.mpg')\n",
        "data = data.shuffle(500, reshuffle_each_iteration=False)\n",
        "data = data.map(mappable_function)\n",
        "data = data.padded_batch(2, padded_shapes=([75,None,None,None],[40]))\n",
        "data = data.prefetch(tf.data.AUTOTUNE)\n",
        "# Added for split\n",
        "train = data.take(450)\n",
        "test = data.skip(450)"
      ]
    },
    {
      "cell_type": "code",
      "execution_count": null,
      "id": "6b1365bd-7742-41d1-95d4-247021751c3a",
      "metadata": {
        "id": "6b1365bd-7742-41d1-95d4-247021751c3a",
        "colab": {
          "base_uri": "https://localhost:8080/"
        },
        "outputId": "6215ee84-6024-4437-8338-817fe8046030"
      },
      "outputs": [
        {
          "output_type": "execute_result",
          "data": {
            "text/plain": [
              "50"
            ]
          },
          "metadata": {},
          "execution_count": 23
        }
      ],
      "source": [
        "len(test)"
      ]
    },
    {
      "cell_type": "code",
      "execution_count": null,
      "id": "5281bde8-fdc8-4da1-bd55-5a7929a9e80c",
      "metadata": {
        "id": "5281bde8-fdc8-4da1-bd55-5a7929a9e80c"
      },
      "outputs": [],
      "source": [
        "frames, alignments = data.as_numpy_iterator().next()"
      ]
    },
    {
      "cell_type": "code",
      "execution_count": null,
      "id": "cbebe683-6afd-47fd-bba4-c83b4b13bb32",
      "metadata": {
        "id": "cbebe683-6afd-47fd-bba4-c83b4b13bb32",
        "colab": {
          "base_uri": "https://localhost:8080/"
        },
        "outputId": "13b9ef2b-20d3-4df5-81b7-4b4fe988c076"
      },
      "outputs": [
        {
          "output_type": "execute_result",
          "data": {
            "text/plain": [
              "2"
            ]
          },
          "metadata": {},
          "execution_count": 25
        }
      ],
      "source": [
        "len(frames)"
      ]
    },
    {
      "cell_type": "code",
      "execution_count": null,
      "id": "5cf2d676-93a9-434c-b3c7-bdcc2577b2e7",
      "metadata": {
        "tags": [],
        "id": "5cf2d676-93a9-434c-b3c7-bdcc2577b2e7"
      },
      "outputs": [],
      "source": [
        "sample = data.as_numpy_iterator()"
      ]
    },
    {
      "cell_type": "code",
      "execution_count": null,
      "id": "efa6cd46-7079-46c0-b45b-832f339f6cb0",
      "metadata": {
        "scrolled": true,
        "tags": [],
        "id": "efa6cd46-7079-46c0-b45b-832f339f6cb0",
        "colab": {
          "base_uri": "https://localhost:8080/"
        },
        "outputId": "8f548f04-601f-4d73-b3ff-f1d383a87799"
      },
      "outputs": [
        {
          "output_type": "execute_result",
          "data": {
            "text/plain": [
              "array([[[[[1.2668508 ],\n",
              "          [1.2668508 ],\n",
              "          [1.2668508 ],\n",
              "          ...,\n",
              "          [0.10858721],\n",
              "          [0.10858721],\n",
              "          [0.10858721]],\n",
              "\n",
              "         [[1.2668508 ],\n",
              "          [1.2668508 ],\n",
              "          [1.2668508 ],\n",
              "          ...,\n",
              "          [0.10858721],\n",
              "          [0.10858721],\n",
              "          [0.10858721]],\n",
              "\n",
              "         [[1.2306551 ],\n",
              "          [1.2306551 ],\n",
              "          [1.2306551 ],\n",
              "          ...,\n",
              "          [0.03619574],\n",
              "          [0.14478296],\n",
              "          [0.14478296]],\n",
              "\n",
              "         ...,\n",
              "\n",
              "         [[0.8686977 ],\n",
              "          [0.8686977 ],\n",
              "          [0.8686977 ],\n",
              "          ...,\n",
              "          [7.5649095 ],\n",
              "          [8.361216  ],\n",
              "          [9.121326  ]],\n",
              "\n",
              "         [[0.8686977 ],\n",
              "          [0.8686977 ],\n",
              "          [0.8686977 ],\n",
              "          ...,\n",
              "          [7.2391477 ],\n",
              "          [7.926867  ],\n",
              "          [8.759369  ]],\n",
              "\n",
              "         [[0.8686977 ],\n",
              "          [0.8686977 ],\n",
              "          [0.8686977 ],\n",
              "          ...,\n",
              "          [7.021973  ],\n",
              "          [7.7096925 ],\n",
              "          [8.433607  ]]],\n",
              "\n",
              "\n",
              "        [[[1.1944593 ],\n",
              "          [1.1944593 ],\n",
              "          [1.1944593 ],\n",
              "          ...,\n",
              "          [0.07239148],\n",
              "          [0.07239148],\n",
              "          [0.07239148]],\n",
              "\n",
              "         [[1.1944593 ],\n",
              "          [1.1944593 ],\n",
              "          [1.1944593 ],\n",
              "          ...,\n",
              "          [0.07239148],\n",
              "          [0.07239148],\n",
              "          [0.07239148]],\n",
              "\n",
              "         [[1.1944593 ],\n",
              "          [1.1944593 ],\n",
              "          [1.1944593 ],\n",
              "          ...,\n",
              "          [0.03619574],\n",
              "          [0.07239148],\n",
              "          [0.07239148]],\n",
              "\n",
              "         ...,\n",
              "\n",
              "         [[0.79630625],\n",
              "          [0.79630625],\n",
              "          [0.79630625],\n",
              "          ...,\n",
              "          [7.3839307 ],\n",
              "          [8.216433  ],\n",
              "          [9.048935  ]],\n",
              "\n",
              "         [[0.79630625],\n",
              "          [0.79630625],\n",
              "          [0.79630625],\n",
              "          ...,\n",
              "          [7.0943646 ],\n",
              "          [7.637301  ],\n",
              "          [8.505999  ]],\n",
              "\n",
              "         [[0.79630625],\n",
              "          [0.79630625],\n",
              "          [0.79630625],\n",
              "          ...,\n",
              "          [6.9495816 ],\n",
              "          [7.5649095 ],\n",
              "          [8.035454  ]]],\n",
              "\n",
              "\n",
              "        [[[1.2306551 ],\n",
              "          [1.2306551 ],\n",
              "          [1.2306551 ],\n",
              "          ...,\n",
              "          [0.07239148],\n",
              "          [0.03619574],\n",
              "          [0.03619574]],\n",
              "\n",
              "         [[1.2306551 ],\n",
              "          [1.2306551 ],\n",
              "          [1.2306551 ],\n",
              "          ...,\n",
              "          [0.07239148],\n",
              "          [0.03619574],\n",
              "          [0.03619574]],\n",
              "\n",
              "         [[1.2306551 ],\n",
              "          [1.2306551 ],\n",
              "          [1.2306551 ],\n",
              "          ...,\n",
              "          [0.10858721],\n",
              "          [0.07239148],\n",
              "          [0.07239148]],\n",
              "\n",
              "         ...,\n",
              "\n",
              "         [[0.90489346],\n",
              "          [0.8686977 ],\n",
              "          [0.8686977 ],\n",
              "          ...,\n",
              "          [7.2753434 ],\n",
              "          [8.035454  ],\n",
              "          [8.976543  ]],\n",
              "\n",
              "         [[0.8686977 ],\n",
              "          [0.8686977 ],\n",
              "          [0.8686977 ],\n",
              "          ...,\n",
              "          [6.913386  ],\n",
              "          [7.5287137 ],\n",
              "          [8.361216  ]],\n",
              "\n",
              "         [[0.8686977 ],\n",
              "          [0.8686977 ],\n",
              "          [0.8686977 ],\n",
              "          ...,\n",
              "          [6.804799  ],\n",
              "          [7.456322  ],\n",
              "          [7.999258  ]]],\n",
              "\n",
              "\n",
              "        ...,\n",
              "\n",
              "\n",
              "        [[[1.3030466 ],\n",
              "          [1.3030466 ],\n",
              "          [1.3030466 ],\n",
              "          ...,\n",
              "          [0.        ],\n",
              "          [0.03619574],\n",
              "          [0.03619574]],\n",
              "\n",
              "         [[1.2668508 ],\n",
              "          [1.2668508 ],\n",
              "          [1.2668508 ],\n",
              "          ...,\n",
              "          [0.        ],\n",
              "          [0.03619574],\n",
              "          [0.03619574]],\n",
              "\n",
              "         [[1.2306551 ],\n",
              "          [1.2306551 ],\n",
              "          [1.2306551 ],\n",
              "          ...,\n",
              "          [0.07239148],\n",
              "          [0.07239148],\n",
              "          [0.07239148]],\n",
              "\n",
              "         ...,\n",
              "\n",
              "         [[0.9410892 ],\n",
              "          [0.9410892 ],\n",
              "          [0.9410892 ],\n",
              "          ...,\n",
              "          [8.144041  ],\n",
              "          [9.157522  ],\n",
              "          [9.229914  ]],\n",
              "\n",
              "         [[0.9410892 ],\n",
              "          [0.9410892 ],\n",
              "          [0.9410892 ],\n",
              "          ...,\n",
              "          [7.5287137 ],\n",
              "          [8.686977  ],\n",
              "          [9.193718  ]],\n",
              "\n",
              "         [[0.90489346],\n",
              "          [0.90489346],\n",
              "          [0.90489346],\n",
              "          ...,\n",
              "          [7.4201264 ],\n",
              "          [8.288824  ],\n",
              "          [8.976543  ]]],\n",
              "\n",
              "\n",
              "        [[[1.3030466 ],\n",
              "          [1.3030466 ],\n",
              "          [1.3030466 ],\n",
              "          ...,\n",
              "          [0.10858721],\n",
              "          [0.10858721],\n",
              "          [0.10858721]],\n",
              "\n",
              "         [[1.2668508 ],\n",
              "          [1.2668508 ],\n",
              "          [1.2668508 ],\n",
              "          ...,\n",
              "          [0.10858721],\n",
              "          [0.10858721],\n",
              "          [0.10858721]],\n",
              "\n",
              "         [[1.2668508 ],\n",
              "          [1.2668508 ],\n",
              "          [1.2668508 ],\n",
              "          ...,\n",
              "          [0.03619574],\n",
              "          [0.07239148],\n",
              "          [0.07239148]],\n",
              "\n",
              "         ...,\n",
              "\n",
              "         [[0.90489346],\n",
              "          [0.90489346],\n",
              "          [0.90489346],\n",
              "          ...,\n",
              "          [8.144041  ],\n",
              "          [9.157522  ],\n",
              "          [0.        ]],\n",
              "\n",
              "         [[0.90489346],\n",
              "          [0.90489346],\n",
              "          [0.90489346],\n",
              "          ...,\n",
              "          [7.5287137 ],\n",
              "          [8.614586  ],\n",
              "          [9.229914  ]],\n",
              "\n",
              "         [[0.832502  ],\n",
              "          [0.832502  ],\n",
              "          [0.832502  ],\n",
              "          ...,\n",
              "          [7.347735  ],\n",
              "          [8.216433  ],\n",
              "          [8.940348  ]]],\n",
              "\n",
              "\n",
              "        [[[1.3030466 ],\n",
              "          [1.3030466 ],\n",
              "          [1.3030466 ],\n",
              "          ...,\n",
              "          [0.07239148],\n",
              "          [0.07239148],\n",
              "          [0.07239148]],\n",
              "\n",
              "         [[1.3030466 ],\n",
              "          [1.3030466 ],\n",
              "          [1.3030466 ],\n",
              "          ...,\n",
              "          [0.07239148],\n",
              "          [0.07239148],\n",
              "          [0.07239148]],\n",
              "\n",
              "         [[1.2668508 ],\n",
              "          [1.2668508 ],\n",
              "          [1.2668508 ],\n",
              "          ...,\n",
              "          [0.03619574],\n",
              "          [0.07239148],\n",
              "          [0.07239148]],\n",
              "\n",
              "         ...,\n",
              "\n",
              "         [[0.90489346],\n",
              "          [0.90489346],\n",
              "          [0.90489346],\n",
              "          ...,\n",
              "          [8.216433  ],\n",
              "          [9.157522  ],\n",
              "          [9.229914  ]],\n",
              "\n",
              "         [[0.90489346],\n",
              "          [0.90489346],\n",
              "          [0.90489346],\n",
              "          ...,\n",
              "          [7.6734967 ],\n",
              "          [8.614586  ],\n",
              "          [9.193718  ]],\n",
              "\n",
              "         [[0.832502  ],\n",
              "          [0.832502  ],\n",
              "          [0.832502  ],\n",
              "          ...,\n",
              "          [7.3839307 ],\n",
              "          [8.216433  ],\n",
              "          [8.940348  ]]]],\n",
              "\n",
              "\n",
              "\n",
              "       [[[[0.6162236 ],\n",
              "          [1.0013633 ],\n",
              "          [1.0783913 ],\n",
              "          ...,\n",
              "          [0.26959783],\n",
              "          [0.26959783],\n",
              "          [0.26959783]],\n",
              "\n",
              "         [[0.42365372],\n",
              "          [0.6162236 ],\n",
              "          [0.69325155],\n",
              "          ...,\n",
              "          [0.26959783],\n",
              "          [0.26959783],\n",
              "          [0.26959783]],\n",
              "\n",
              "         [[1.0783913 ],\n",
              "          [1.0398773 ],\n",
              "          [0.77027947],\n",
              "          ...,\n",
              "          [0.26959783],\n",
              "          [0.26959783],\n",
              "          [0.26959783]],\n",
              "\n",
              "         ...,\n",
              "\n",
              "         [[1.0783913 ],\n",
              "          [1.0783913 ],\n",
              "          [1.0783913 ],\n",
              "          ...,\n",
              "          [0.03851397],\n",
              "          [0.03851397],\n",
              "          [0.03851397]],\n",
              "\n",
              "         [[1.0398773 ],\n",
              "          [1.0398773 ],\n",
              "          [1.0398773 ],\n",
              "          ...,\n",
              "          [0.        ],\n",
              "          [0.        ],\n",
              "          [0.        ]],\n",
              "\n",
              "         [[1.0398773 ],\n",
              "          [1.0398773 ],\n",
              "          [1.0398773 ],\n",
              "          ...,\n",
              "          [0.        ],\n",
              "          [0.        ],\n",
              "          [0.        ]]],\n",
              "\n",
              "\n",
              "        [[[0.6162236 ],\n",
              "          [1.0783913 ],\n",
              "          [1.1554192 ],\n",
              "          ...,\n",
              "          [0.23108384],\n",
              "          [0.23108384],\n",
              "          [0.23108384]],\n",
              "\n",
              "         [[0.7317655 ],\n",
              "          [0.6162236 ],\n",
              "          [0.46216768],\n",
              "          ...,\n",
              "          [0.23108384],\n",
              "          [0.23108384],\n",
              "          [0.23108384]],\n",
              "\n",
              "         [[1.1554192 ],\n",
              "          [1.0013633 ],\n",
              "          [0.6162236 ],\n",
              "          ...,\n",
              "          [0.23108384],\n",
              "          [0.23108384],\n",
              "          [0.23108384]],\n",
              "\n",
              "         ...,\n",
              "\n",
              "         [[1.0398773 ],\n",
              "          [1.0398773 ],\n",
              "          [1.0398773 ],\n",
              "          ...,\n",
              "          [0.03851397],\n",
              "          [0.03851397],\n",
              "          [0.03851397]],\n",
              "\n",
              "         [[1.0013633 ],\n",
              "          [1.0013633 ],\n",
              "          [1.0013633 ],\n",
              "          ...,\n",
              "          [0.        ],\n",
              "          [0.        ],\n",
              "          [0.        ]],\n",
              "\n",
              "         [[1.0013633 ],\n",
              "          [1.0013633 ],\n",
              "          [1.0013633 ],\n",
              "          ...,\n",
              "          [0.        ],\n",
              "          [0.        ],\n",
              "          [0.        ]]],\n",
              "\n",
              "\n",
              "        [[[0.5777096 ],\n",
              "          [1.0783913 ],\n",
              "          [1.0783913 ],\n",
              "          ...,\n",
              "          [0.23108384],\n",
              "          [0.23108384],\n",
              "          [0.23108384]],\n",
              "\n",
              "         [[0.7317655 ],\n",
              "          [0.5777096 ],\n",
              "          [0.42365372],\n",
              "          ...,\n",
              "          [0.23108384],\n",
              "          [0.23108384],\n",
              "          [0.23108384]],\n",
              "\n",
              "         [[1.2709612 ],\n",
              "          [1.1169052 ],\n",
              "          [0.69325155],\n",
              "          ...,\n",
              "          [0.26959783],\n",
              "          [0.26959783],\n",
              "          [0.26959783]],\n",
              "\n",
              "         ...,\n",
              "\n",
              "         [[1.0783913 ],\n",
              "          [1.0783913 ],\n",
              "          [1.0783913 ],\n",
              "          ...,\n",
              "          [0.03851397],\n",
              "          [0.03851397],\n",
              "          [0.03851397]],\n",
              "\n",
              "         [[1.0398773 ],\n",
              "          [1.0398773 ],\n",
              "          [1.0398773 ],\n",
              "          ...,\n",
              "          [0.        ],\n",
              "          [0.        ],\n",
              "          [0.        ]],\n",
              "\n",
              "         [[1.0398773 ],\n",
              "          [1.0398773 ],\n",
              "          [1.0398773 ],\n",
              "          ...,\n",
              "          [0.        ],\n",
              "          [0.        ],\n",
              "          [0.        ]]],\n",
              "\n",
              "\n",
              "        ...,\n",
              "\n",
              "\n",
              "        [[[0.8087935 ],\n",
              "          [1.2709612 ],\n",
              "          [1.3865031 ],\n",
              "          ...,\n",
              "          [0.19256987],\n",
              "          [0.19256987],\n",
              "          [0.19256987]],\n",
              "\n",
              "         [[0.3081118 ],\n",
              "          [0.8858214 ],\n",
              "          [1.1554192 ],\n",
              "          ...,\n",
              "          [0.19256987],\n",
              "          [0.19256987],\n",
              "          [0.19256987]],\n",
              "\n",
              "         [[0.9628494 ],\n",
              "          [1.0013633 ],\n",
              "          [1.0398773 ],\n",
              "          ...,\n",
              "          [0.1540559 ],\n",
              "          [0.1540559 ],\n",
              "          [0.1540559 ]],\n",
              "\n",
              "         ...,\n",
              "\n",
              "         [[1.0013633 ],\n",
              "          [1.0013633 ],\n",
              "          [1.0013633 ],\n",
              "          ...,\n",
              "          [0.03851397],\n",
              "          [0.03851397],\n",
              "          [0.03851397]],\n",
              "\n",
              "         [[1.0013633 ],\n",
              "          [1.0013633 ],\n",
              "          [1.0013633 ],\n",
              "          ...,\n",
              "          [0.03851397],\n",
              "          [0.03851397],\n",
              "          [0.03851397]],\n",
              "\n",
              "         [[1.0013633 ],\n",
              "          [1.0013633 ],\n",
              "          [1.0013633 ],\n",
              "          ...,\n",
              "          [0.03851397],\n",
              "          [0.03851397],\n",
              "          [0.        ]]],\n",
              "\n",
              "\n",
              "        [[[0.8858214 ],\n",
              "          [1.3479891 ],\n",
              "          [1.3479891 ],\n",
              "          ...,\n",
              "          [0.23108384],\n",
              "          [0.19256987],\n",
              "          [0.19256987]],\n",
              "\n",
              "         [[0.34662578],\n",
              "          [0.92433536],\n",
              "          [1.0783913 ],\n",
              "          ...,\n",
              "          [0.23108384],\n",
              "          [0.19256987],\n",
              "          [0.19256987]],\n",
              "\n",
              "         [[0.8858214 ],\n",
              "          [0.9628494 ],\n",
              "          [1.0013633 ],\n",
              "          ...,\n",
              "          [0.19256987],\n",
              "          [0.1540559 ],\n",
              "          [0.1540559 ]],\n",
              "\n",
              "         ...,\n",
              "\n",
              "         [[1.0398773 ],\n",
              "          [1.0398773 ],\n",
              "          [1.0398773 ],\n",
              "          ...,\n",
              "          [0.        ],\n",
              "          [0.        ],\n",
              "          [0.        ]],\n",
              "\n",
              "         [[1.0013633 ],\n",
              "          [1.0013633 ],\n",
              "          [1.0013633 ],\n",
              "          ...,\n",
              "          [0.        ],\n",
              "          [0.        ],\n",
              "          [0.        ]],\n",
              "\n",
              "         [[1.0013633 ],\n",
              "          [1.0013633 ],\n",
              "          [1.0013633 ],\n",
              "          ...,\n",
              "          [0.        ],\n",
              "          [9.821063  ],\n",
              "          [9.821063  ]]],\n",
              "\n",
              "\n",
              "        [[[0.84730744],\n",
              "          [1.3479891 ],\n",
              "          [1.2324471 ],\n",
              "          ...,\n",
              "          [0.1540559 ],\n",
              "          [0.1540559 ],\n",
              "          [0.19256987]],\n",
              "\n",
              "         [[0.34662578],\n",
              "          [0.92433536],\n",
              "          [1.0783913 ],\n",
              "          ...,\n",
              "          [0.1540559 ],\n",
              "          [0.1540559 ],\n",
              "          [0.19256987]],\n",
              "\n",
              "         [[0.8087935 ],\n",
              "          [0.9628494 ],\n",
              "          [1.0398773 ],\n",
              "          ...,\n",
              "          [0.23108384],\n",
              "          [0.19256987],\n",
              "          [0.1540559 ]],\n",
              "\n",
              "         ...,\n",
              "\n",
              "         [[1.0398773 ],\n",
              "          [1.0398773 ],\n",
              "          [1.0398773 ],\n",
              "          ...,\n",
              "          [0.03851397],\n",
              "          [0.03851397],\n",
              "          [0.03851397]],\n",
              "\n",
              "         [[1.0013633 ],\n",
              "          [1.0013633 ],\n",
              "          [1.0013633 ],\n",
              "          ...,\n",
              "          [0.03851397],\n",
              "          [0.03851397],\n",
              "          [0.03851397]],\n",
              "\n",
              "         [[1.0013633 ],\n",
              "          [1.0013633 ],\n",
              "          [1.0013633 ],\n",
              "          ...,\n",
              "          [0.03851397],\n",
              "          [0.        ],\n",
              "          [0.        ]]]]], dtype=float32)"
            ]
          },
          "metadata": {},
          "execution_count": 27
        }
      ],
      "source": [
        "val = sample.next();\n",
        "val[0]"
      ]
    },
    {
      "cell_type": "code",
      "execution_count": null,
      "id": "c33a87a2-d5e0-4ec9-b174-73ebf41bf03a",
      "metadata": {
        "tags": [],
        "id": "c33a87a2-d5e0-4ec9-b174-73ebf41bf03a",
        "colab": {
          "base_uri": "https://localhost:8080/",
          "height": 244
        },
        "outputId": "3b2a3975-cd6f-409f-8508-62c43ff47099"
      },
      "outputs": [
        {
          "output_type": "execute_result",
          "data": {
            "text/plain": [
              "<matplotlib.image.AxesImage at 0x7ebdb719d690>"
            ]
          },
          "metadata": {},
          "execution_count": 30
        },
        {
          "output_type": "display_data",
          "data": {
            "text/plain": [
              "<Figure size 640x480 with 1 Axes>"
            ],
            "image/png": "[encoded data removed]"
          },
          "metadata": {}
        }
      ],
      "source": [
        "# 0:videos, 0: 1st video out of the batch,  0: return the first frame in the video\n",
        "plt.imshow(val[0][0][60])"
      ]
    },
    {
      "cell_type": "code",
      "execution_count": null,
      "id": "84593332-133c-4205-b7a6-8e235d5e2b3b",
      "metadata": {
        "tags": [],
        "id": "84593332-133c-4205-b7a6-8e235d5e2b3b",
        "colab": {
          "base_uri": "https://localhost:8080/"
        },
        "outputId": "03d45a87-87be-4f38-de84-70fca1dd6f6f"
      },
      "outputs": [
        {
          "output_type": "execute_result",
          "data": {
            "text/plain": [
              "<tf.Tensor: shape=(), dtype=string, numpy=b'bin green with u seven soon'>"
            ]
          },
          "metadata": {},
          "execution_count": 31
        }
      ],
      "source": [
        "tf.strings.reduce_join([num_to_char(word) for word in val[1][0]])"
      ]
    },
    {
      "cell_type": "markdown",
      "id": "0f47733c-83bc-465c-b118-b198b492ad37",
      "metadata": {
        "tags": [],
        "id": "0f47733c-83bc-465c-b118-b198b492ad37"
      },
      "source": [
        "# 3. Design the Deep Neural Network"
      ]
    },
    {
      "cell_type": "code",
      "execution_count": 39,
      "id": "d8e9a497-191b-4842-afbd-26f5e13c43ba",
      "metadata": {
        "tags": [],
        "id": "d8e9a497-191b-4842-afbd-26f5e13c43ba"
      },
      "outputs": [],
      "source": [
        "from tensorflow.keras.models import Sequential\n",
        "from tensorflow.keras.layers import Conv3D, LSTM, Dense, Dropout, Bidirectional, MaxPool3D, Activation, Reshape, SpatialDropout3D, BatchNormalization, TimeDistributed, Flatten\n",
        "from tensorflow.keras.optimizers import Adam\n",
        "from tensorflow.keras.callbacks import ModelCheckpoint, LearningRateScheduler"
      ]
    },
    {
      "cell_type": "code",
      "execution_count": null,
      "id": "3f753ed2-70b9-4236-8c1c-08ca065dc8bf",
      "metadata": {
        "id": "3f753ed2-70b9-4236-8c1c-08ca065dc8bf",
        "colab": {
          "base_uri": "https://localhost:8080/"
        },
        "outputId": "17b8a904-5d8e-4e64-a1b3-9b30379773ef"
      },
      "outputs": [
        {
          "output_type": "execute_result",
          "data": {
            "text/plain": [
              "(75, 46, 140, 1)"
            ]
          },
          "metadata": {},
          "execution_count": 33
        }
      ],
      "source": [
        "data.as_numpy_iterator().next()[0][0].shape"
      ]
    },
    {
      "cell_type": "code",
      "execution_count": null,
      "id": "f9171056-a352-491a-9ed9-92b28ced268e",
      "metadata": {
        "tags": [],
        "id": "f9171056-a352-491a-9ed9-92b28ced268e"
      },
      "outputs": [],
      "source": [
        "model = Sequential()\n",
        "model.add(Conv3D(128, 3, input_shape=(75,46,140,1), padding='same'))\n",
        "model.add(Activation('relu'))\n",
        "model.add(MaxPool3D((1,2,2)))\n",
        "\n",
        "model.add(Conv3D(256, 3, padding='same'))\n",
        "model.add(Activation('relu'))\n",
        "model.add(MaxPool3D((1,2,2)))\n",
        "\n",
        "model.add(Conv3D(75, 3, padding='same'))\n",
        "model.add(Activation('relu'))\n",
        "model.add(MaxPool3D((1,2,2)))\n",
        "\n",
        "model.add(TimeDistributed(Flatten()))\n",
        "\n",
        "model.add(Bidirectional(LSTM(128, kernel_initializer='Orthogonal', return_sequences=True)))\n",
        "model.add(Dropout(.5))\n",
        "\n",
        "model.add(Bidirectional(LSTM(128, kernel_initializer='Orthogonal', return_sequences=True)))\n",
        "model.add(Dropout(.5))\n",
        "\n",
        "model.add(Dense(char_to_num.vocabulary_size()+1, kernel_initializer='he_normal', activation='softmax'))"
      ]
    },
    {
      "cell_type": "code",
      "execution_count": null,
      "id": "78851825-2bcd-42a9-b7f2-28bb5a6bf43a",
      "metadata": {
        "collapsed": true,
        "jupyter": {
          "outputs_hidden": true
        },
        "tags": [],
        "id": "78851825-2bcd-42a9-b7f2-28bb5a6bf43a",
        "colab": {
          "base_uri": "https://localhost:8080/"
        },
        "outputId": "9659ad9f-e706-476e-f80e-e4c9eb0ad00a"
      },
      "outputs": [
        {
          "output_type": "stream",
          "name": "stdout",
          "text": [
            "Model: \"sequential\"\n",
            "_________________________________________________________________\n",
            " Layer (type)                Output Shape              Param #   \n",
            "=================================================================\n",
            " conv3d (Conv3D)             (None, 75, 46, 140, 128)  3584      \n",
            "                                                                 \n",
            " activation (Activation)     (None, 75, 46, 140, 128)  0         \n",
            "                                                                 \n",
            " max_pooling3d (MaxPooling3D  (None, 75, 23, 70, 128)  0         \n",
            " )                                                               \n",
            "                                                                 \n",
            " conv3d_1 (Conv3D)           (None, 75, 23, 70, 256)   884992    \n",
            "                                                                 \n",
            " activation_1 (Activation)   (None, 75, 23, 70, 256)   0         \n",
            "                                                                 \n",
            " max_pooling3d_1 (MaxPooling  (None, 75, 11, 35, 256)  0         \n",
            " 3D)                                                             \n",
            "                                                                 \n",
            " conv3d_2 (Conv3D)           (None, 75, 11, 35, 75)    518475    \n",
            "                                                                 \n",
            " activation_2 (Activation)   (None, 75, 11, 35, 75)    0         \n",
            "                                                                 \n",
            " max_pooling3d_2 (MaxPooling  (None, 75, 5, 17, 75)    0         \n",
            " 3D)                                                             \n",
            "                                                                 \n",
            " time_distributed (TimeDistr  (None, 75, 6375)         0         \n",
            " ibuted)                                                         \n",
            "                                                                 \n",
            " bidirectional (Bidirectiona  (None, 75, 256)          6660096   \n",
            " l)                                                              \n",
            "                                                                 \n",
            " dropout (Dropout)           (None, 75, 256)           0         \n",
            "                                                                 \n",
            " bidirectional_1 (Bidirectio  (None, 75, 256)          394240    \n",
            " nal)                                                            \n",
            "                                                                 \n",
            " dropout_1 (Dropout)         (None, 75, 256)           0         \n",
            "                                                                 \n",
            " dense (Dense)               (None, 75, 41)            10537     \n",
            "                                                                 \n",
            "=================================================================\n",
            "Total params: 8,471,924\n",
            "Trainable params: 8,471,924\n",
            "Non-trainable params: 0\n",
            "_________________________________________________________________\n"
          ]
        }
      ],
      "source": [
        "model.summary()"
      ]
    },
    {
      "cell_type": "code",
      "execution_count": null,
      "id": "f4b4798c-a65a-4c47-9e2a-3b09dc98d320",
      "metadata": {
        "id": "f4b4798c-a65a-4c47-9e2a-3b09dc98d320",
        "colab": {
          "base_uri": "https://localhost:8080/"
        },
        "outputId": "20c6a1cb-2edd-4128-8d3a-244e471e95b1"
      },
      "outputs": [
        {
          "output_type": "execute_result",
          "data": {
            "text/plain": [
              "6375"
            ]
          },
          "metadata": {},
          "execution_count": 36
        }
      ],
      "source": [
        "5*17*75"
      ]
    },
    {
      "cell_type": "code",
      "execution_count": null,
      "id": "e5c2eae0-c359-41a4-97a0-75c44dccb7d1",
      "metadata": {
        "tags": [],
        "id": "e5c2eae0-c359-41a4-97a0-75c44dccb7d1",
        "colab": {
          "base_uri": "https://localhost:8080/"
        },
        "outputId": "6fc223cd-4e4f-4820-d5c8-656a29a05c43"
      },
      "outputs": [
        {
          "output_type": "stream",
          "name": "stdout",
          "text": [
            "1/1 [==============================] - 7s 7s/step\n"
          ]
        }
      ],
      "source": [
        "yhat = model.predict(val[0])"
      ]
    },
    {
      "cell_type": "code",
      "execution_count": null,
      "id": "ffdc7319-0d69-4f7e-a6d4-ce72deb81c0b",
      "metadata": {
        "id": "ffdc7319-0d69-4f7e-a6d4-ce72deb81c0b",
        "colab": {
          "base_uri": "https://localhost:8080/"
        },
        "outputId": "f89cf8d5-6f7b-478d-885c-d806a1f67e55"
      },
      "outputs": [
        {
          "output_type": "execute_result",
          "data": {
            "text/plain": [
              "<tf.Tensor: shape=(), dtype=string, numpy=b'xxxxxyyyyyyyyyyyyyyyyyyyyyyyyyyyyyyyyyyyyyyyyyyyyyyyyyyyyyyyyyyyyyyyyyyyyyy'>"
            ]
          },
          "metadata": {},
          "execution_count": 38
        }
      ],
      "source": [
        "tf.strings.reduce_join([num_to_char(x) for x in tf.argmax(yhat[0],axis=1)])"
      ]
    },
    {
      "cell_type": "code",
      "execution_count": null,
      "id": "6ed47531-8317-4255-9a12-b757642258e6",
      "metadata": {
        "tags": [],
        "id": "6ed47531-8317-4255-9a12-b757642258e6",
        "colab": {
          "base_uri": "https://localhost:8080/"
        },
        "outputId": "8b1b4613-4630-4816-ce14-1f165fdadc1f"
      },
      "outputs": [
        {
          "output_type": "execute_result",
          "data": {
            "text/plain": [
              "<tf.Tensor: shape=(), dtype=string, numpy=b'xxxxxyyyyyyyyyyyyyyyyyyyyyyyyyyyyyyyyyyyyyyyyyyyyyyyyyyyyyyyyyyyyyyyyyyyyyy'>"
            ]
          },
          "metadata": {},
          "execution_count": 39
        }
      ],
      "source": [
        "tf.strings.reduce_join([num_to_char(tf.argmax(x)) for x in yhat[0]])"
      ]
    },
    {
      "cell_type": "code",
      "execution_count": null,
      "id": "7c37b9b9-5298-4038-9c33-5031d1b457f0",
      "metadata": {
        "tags": [],
        "id": "7c37b9b9-5298-4038-9c33-5031d1b457f0",
        "colab": {
          "base_uri": "https://localhost:8080/"
        },
        "outputId": "d9e0f56f-202f-4d58-df3a-e6bc56b6e7d2"
      },
      "outputs": [
        {
          "output_type": "execute_result",
          "data": {
            "text/plain": [
              "(None, 75, 46, 140, 1)"
            ]
          },
          "metadata": {},
          "execution_count": 40
        }
      ],
      "source": [
        "model.input_shape"
      ]
    },
    {
      "cell_type": "code",
      "execution_count": null,
      "id": "98b316a4-5322-4782-8e36-4b3c1a696d85",
      "metadata": {
        "tags": [],
        "id": "98b316a4-5322-4782-8e36-4b3c1a696d85",
        "colab": {
          "base_uri": "https://localhost:8080/"
        },
        "outputId": "00732a20-c2bb-4966-f1e4-bbe858872b7e"
      },
      "outputs": [
        {
          "output_type": "execute_result",
          "data": {
            "text/plain": [
              "(None, 75, 41)"
            ]
          },
          "metadata": {},
          "execution_count": 41
        }
      ],
      "source": [
        "model.output_shape"
      ]
    },
    {
      "cell_type": "markdown",
      "id": "2ec02176-5c26-46c3-aff7-8352e6563c7d",
      "metadata": {
        "tags": [],
        "id": "2ec02176-5c26-46c3-aff7-8352e6563c7d"
      },
      "source": [
        "# 4. Setup Training Options and Train"
      ]
    },
    {
      "cell_type": "code",
      "execution_count": 41,
      "id": "ab015fd0-7fb4-4d5d-9fa2-30a05dbd515a",
      "metadata": {
        "tags": [],
        "id": "ab015fd0-7fb4-4d5d-9fa2-30a05dbd515a"
      },
      "outputs": [],
      "source": [
        "def scheduler(epoch, lr):\n",
        "    if epoch < 30:\n",
        "        return lr\n",
        "    else:\n",
        "        return lr * tf.math.exp(-0.1)"
      ]
    },
    {
      "cell_type": "code",
      "execution_count": 42,
      "id": "c564d5c9-db54-4e88-b311-9aeab7fb3e69",
      "metadata": {
        "tags": [],
        "id": "c564d5c9-db54-4e88-b311-9aeab7fb3e69"
      },
      "outputs": [],
      "source": [
        "def CTCLoss(y_true, y_pred):\n",
        "    batch_len = tf.cast(tf.shape(y_true)[0], dtype=\"int64\")\n",
        "    input_length = tf.cast(tf.shape(y_pred)[1], dtype=\"int64\")\n",
        "    label_length = tf.cast(tf.shape(y_true)[1], dtype=\"int64\")\n",
        "\n",
        "    input_length = input_length * tf.ones(shape=(batch_len, 1), dtype=\"int64\")\n",
        "    label_length = label_length * tf.ones(shape=(batch_len, 1), dtype=\"int64\")\n",
        "\n",
        "    loss = tf.keras.backend.ctc_batch_cost(y_true, y_pred, input_length, label_length)\n",
        "    return loss"
      ]
    },
    {
      "cell_type": "code",
      "execution_count": 43,
      "id": "a26dc3fc-a19c-4378-bd8c-e2b597a1d15c",
      "metadata": {
        "tags": [],
        "id": "a26dc3fc-a19c-4378-bd8c-e2b597a1d15c"
      },
      "outputs": [],
      "source": [
        "class ProduceExample(tf.keras.callbacks.Callback):\n",
        "    def __init__(self, dataset) -> None:\n",
        "        self.dataset = dataset.as_numpy_iterator()\n",
        "\n",
        "    def on_epoch_end(self, epoch, logs=None) -> None:\n",
        "        data = self.dataset.next()\n",
        "        yhat = self.model.predict(data[0])\n",
        "        decoded = tf.keras.backend.ctc_decode(yhat, [75,75], greedy=False)[0][0].numpy()\n",
        "        for x in range(len(yhat)):\n",
        "            print('Original:', tf.strings.reduce_join(num_to_char(data[1][x])).numpy().decode('utf-8'))\n",
        "            print('Prediction:', tf.strings.reduce_join(num_to_char(decoded[x])).numpy().decode('utf-8'))\n",
        "            print('~'*100)"
      ]
    },
    {
      "cell_type": "code",
      "execution_count": null,
      "id": "04be90d8-2482-46f9-b513-d5f4f8001c7e",
      "metadata": {
        "tags": [],
        "id": "04be90d8-2482-46f9-b513-d5f4f8001c7e"
      },
      "outputs": [],
      "source": [
        "model.compile(optimizer=Adam(learning_rate=0.0001), loss=CTCLoss)"
      ]
    },
    {
      "cell_type": "code",
      "execution_count": null,
      "id": "eab49367-3f1e-4464-ae76-dbd07549d97e",
      "metadata": {
        "tags": [],
        "id": "eab49367-3f1e-4464-ae76-dbd07549d97e"
      },
      "outputs": [],
      "source": [
        "checkpoint_callback = ModelCheckpoint(os.path.join('models','checkpoint'), monitor='loss', save_weights_only=True)"
      ]
    },
    {
      "cell_type": "code",
      "execution_count": null,
      "id": "e085a632-d464-46ef-8777-959cad4adb2c",
      "metadata": {
        "tags": [],
        "id": "e085a632-d464-46ef-8777-959cad4adb2c"
      },
      "outputs": [],
      "source": [
        "schedule_callback = LearningRateScheduler(scheduler)"
      ]
    },
    {
      "cell_type": "code",
      "execution_count": null,
      "id": "48eca991-90ab-4592-8a79-b50e9ca015b6",
      "metadata": {
        "tags": [],
        "id": "48eca991-90ab-4592-8a79-b50e9ca015b6"
      },
      "outputs": [],
      "source": [
        "example_callback = ProduceExample(test)"
      ]
    },
    {
      "cell_type": "code",
      "execution_count": null,
      "id": "8ffba483-aa61-4bbe-a15f-a73e1ddf097c",
      "metadata": {
        "tags": [],
        "id": "8ffba483-aa61-4bbe-a15f-a73e1ddf097c"
      },
      "outputs": [],
      "source": [
        "model.fit(train, epochs=10, callbacks=[checkpoint_callback, schedule_callback])"
      ]
    },
    {
      "cell_type": "code",
      "source": [
        "from google.colab import drive\n",
        "drive.mount('/content/gdrive')\n",
        "# model_save_name = 'lipnet10.h5'\n",
        "# path = F\"/content/gdrive/My Drive/{model_save_name}\"\n",
        "# model.save(path)"
      ],
      "metadata": {
        "id": "nAeoWntQEqpX",
        "colab": {
          "base_uri": "https://localhost:8080/"
        },
        "outputId": "4db67855-c5a6-44a0-e6e6-e94f45eed7ff"
      },
      "id": "nAeoWntQEqpX",
      "execution_count": 37,
      "outputs": [
        {
          "output_type": "stream",
          "name": "stdout",
          "text": [
            "Mounted at /content/gdrive\n"
          ]
        }
      ]
    },
    {
      "cell_type": "markdown",
      "source": [
        "  ### Retraining"
      ],
      "metadata": {
        "id": "ycCWCnu3je6Y"
      },
      "id": "ycCWCnu3je6Y"
    },
    {
      "cell_type": "code",
      "source": [
        "model.fit(train, epochs=10, callbacks=[checkpoint_callback, schedule_callback])"
      ],
      "metadata": {
        "colab": {
          "base_uri": "https://localhost:8080/"
        },
        "id": "_uPTJ9g84qVk",
        "outputId": "78daafb2-957c-48be-cff4-134be723e954"
      },
      "id": "_uPTJ9g84qVk",
      "execution_count": null,
      "outputs": [
        {
          "output_type": "stream",
          "name": "stdout",
          "text": [
            "Epoch 1/10\n",
            "450/450 [==============================] - 485s 1s/step - loss: 87.2006 - lr: 1.0000e-04\n",
            "Epoch 2/10\n",
            "450/450 [==============================] - 481s 1s/step - loss: 71.4220 - lr: 1.0000e-04\n",
            "Epoch 3/10\n",
            "450/450 [==============================] - 481s 1s/step - loss: 67.1706 - lr: 1.0000e-04\n",
            "Epoch 4/10\n",
            "450/450 [==============================] - 480s 1s/step - loss: 63.9497 - lr: 1.0000e-04\n",
            "Epoch 5/10\n",
            "450/450 [==============================] - 488s 1s/step - loss: 61.8021 - lr: 1.0000e-04\n",
            "Epoch 6/10\n",
            "450/450 [==============================] - 480s 1s/step - loss: 59.8748 - lr: 1.0000e-04\n",
            "Epoch 7/10\n",
            "450/450 [==============================] - 482s 1s/step - loss: 57.6313 - lr: 1.0000e-04\n",
            "Epoch 8/10\n",
            "450/450 [==============================] - 480s 1s/step - loss: 55.6348 - lr: 1.0000e-04\n",
            "Epoch 9/10\n",
            "450/450 [==============================] - 484s 1s/step - loss: 53.6212 - lr: 1.0000e-04\n",
            "Epoch 10/10\n",
            "450/450 [==============================] - 475s 1s/step - loss: 50.1333 - lr: 1.0000e-04\n"
          ]
        },
        {
          "output_type": "execute_result",
          "data": {
            "text/plain": [
              "<keras.callbacks.History at 0x7a90bfe11360>"
            ]
          },
          "metadata": {},
          "execution_count": 51
        }
      ]
    },
    {
      "cell_type": "code",
      "source": [
        "model_save_name = 'model10.h5'\n",
        "path = F\"/content/gdrive/My Drive/{model_save_name}\"\n",
        "model.save(path)"
      ],
      "metadata": {
        "id": "LnKi6j9w42kD"
      },
      "id": "LnKi6j9w42kD",
      "execution_count": null,
      "outputs": []
    },
    {
      "cell_type": "code",
      "source": [
        "from keras.models import load_model\n",
        "model = load_model('/content/gdrive/MyDrive/model10.h5', compile=False)\n",
        "model.compile(optimizer=Adam(learning_rate=0.0001), loss=CTCLoss)"
      ],
      "metadata": {
        "id": "AP0Mx-Ol488V"
      },
      "id": "AP0Mx-Ol488V",
      "execution_count": null,
      "outputs": []
    },
    {
      "cell_type": "code",
      "source": [
        "model.fit(train, epochs=10, callbacks=[checkpoint_callback, schedule_callback])"
      ],
      "metadata": {
        "id": "WP-NHtz7q71t"
      },
      "id": "WP-NHtz7q71t",
      "execution_count": null,
      "outputs": []
    },
    {
      "cell_type": "code",
      "source": [
        "model_save_name = 'model20.h5'\n",
        "path = F\"/content/gdrive/My Drive/{model_save_name}\"\n",
        "model.save(path)"
      ],
      "metadata": {
        "id": "bS2vX70B5L0y"
      },
      "id": "bS2vX70B5L0y",
      "execution_count": null,
      "outputs": []
    },
    {
      "cell_type": "code",
      "source": [
        "from keras.models import load_model\n",
        "model = load_model('/content/gdrive/MyDrive/model20.h5', compile=False)\n",
        "model.compile(optimizer=Adam(learning_rate=0.0001), loss=CTCLoss)"
      ],
      "metadata": {
        "id": "LsHptKrii77U"
      },
      "id": "LsHptKrii77U",
      "execution_count": null,
      "outputs": []
    },
    {
      "cell_type": "code",
      "source": [
        "model.fit(train, epochs=10, callbacks=[checkpoint_callback, schedule_callback])"
      ],
      "metadata": {
        "id": "nBYQbWeuwt88"
      },
      "id": "nBYQbWeuwt88",
      "execution_count": null,
      "outputs": []
    },
    {
      "cell_type": "code",
      "source": [
        "model_save_name = 'model30.h5'\n",
        "path = F\"/content/gdrive/My Drive/{model_save_name}\"\n",
        "model.save(path)"
      ],
      "metadata": {
        "id": "iAgCeClljWRR"
      },
      "id": "iAgCeClljWRR",
      "execution_count": null,
      "outputs": []
    },
    {
      "cell_type": "code",
      "source": [
        "from keras.models import load_model\n",
        "model = load_model('/content/gdrive/MyDrive/model30.h5', compile=False)\n",
        "model.compile(optimizer=Adam(learning_rate=0.0001), loss=CTCLoss)"
      ],
      "metadata": {
        "id": "XWdoimnhGlUj"
      },
      "id": "XWdoimnhGlUj",
      "execution_count": null,
      "outputs": []
    },
    {
      "cell_type": "code",
      "source": [
        "model.fit(train, epochs=10, callbacks=[checkpoint_callback, schedule_callback])"
      ],
      "metadata": {
        "id": "7iHUxIj5GsSY"
      },
      "id": "7iHUxIj5GsSY",
      "execution_count": null,
      "outputs": []
    },
    {
      "cell_type": "code",
      "source": [
        "model_save_name = 'model40.h5'\n",
        "path = F\"/content/gdrive/My Drive/{model_save_name}\"\n",
        "model.save(path)"
      ],
      "metadata": {
        "id": "msRVCpWzGs6O"
      },
      "id": "msRVCpWzGs6O",
      "execution_count": null,
      "outputs": []
    },
    {
      "cell_type": "code",
      "source": [
        "from keras.models import load_model\n",
        "model = load_model('/content/gdrive/MyDrive/model40.h5', compile=False)\n",
        "model.compile(optimizer=Adam(learning_rate=0.0001), loss=CTCLoss)"
      ],
      "metadata": {
        "id": "E3crhCHjG0OQ"
      },
      "id": "E3crhCHjG0OQ",
      "execution_count": null,
      "outputs": []
    },
    {
      "cell_type": "code",
      "source": [
        "model.fit(train, epochs=10, callbacks=[checkpoint_callback, schedule_callback])"
      ],
      "metadata": {
        "id": "xLbyqxGeq-R8"
      },
      "id": "xLbyqxGeq-R8",
      "execution_count": null,
      "outputs": []
    },
    {
      "cell_type": "code",
      "source": [
        "model_save_name = 'model50.h5'\n",
        "path = F\"/content/gdrive/My Drive/{model_save_name}\"\n",
        "model.save(path)"
      ],
      "metadata": {
        "id": "zKM051SjG7tF"
      },
      "id": "zKM051SjG7tF",
      "execution_count": null,
      "outputs": []
    },
    {
      "cell_type": "code",
      "source": [
        "# Training after 50 Date : 29 Oct 2023\n",
        "from keras.models import load_model\n",
        "model = load_model('/content/gdrive/MyDrive/model50.h5', compile=False)\n",
        "model.compile(optimizer=Adam(learning_rate=0.0001), loss=CTCLoss)\n"
      ],
      "metadata": {
        "id": "kGwN3Bcuifeb"
      },
      "id": "kGwN3Bcuifeb",
      "execution_count": null,
      "outputs": []
    },
    {
      "cell_type": "code",
      "source": [
        "model.fit(train, epochs=10, callbacks=[checkpoint_callback, schedule_callback])"
      ],
      "metadata": {
        "id": "_W55LnI3iql3"
      },
      "id": "_W55LnI3iql3",
      "execution_count": null,
      "outputs": []
    },
    {
      "cell_type": "code",
      "source": [
        "model_save_name = 'model60.h5'\n",
        "path = F\"/content/gdrive/My Drive/{model_save_name}\"\n",
        "model.save(path)"
      ],
      "metadata": {
        "id": "KWJNolRSiu9y"
      },
      "id": "KWJNolRSiu9y",
      "execution_count": null,
      "outputs": []
    },
    {
      "cell_type": "markdown",
      "id": "fa8ee94b-89f7-4733-8a0c-a86f86ff590a",
      "metadata": {
        "tags": [],
        "id": "fa8ee94b-89f7-4733-8a0c-a86f86ff590a"
      },
      "source": [
        "# 5. Make a Prediction"
      ]
    },
    {
      "cell_type": "code",
      "source": [
        "from keras.models import load_model\n",
        "model = load_model('/content/gdrive/MyDrive/model60.h5', compile=False)\n",
        "model.compile(optimizer=Adam(learning_rate=0.0001), loss=CTCLoss)"
      ],
      "metadata": {
        "id": "UxPMiPJS3mHR"
      },
      "id": "UxPMiPJS3mHR",
      "execution_count": 44,
      "outputs": []
    },
    {
      "cell_type": "code",
      "execution_count": null,
      "id": "7f8d689f-b7bb-443c-9b88-e40c1d800828",
      "metadata": {
        "tags": [],
        "id": "7f8d689f-b7bb-443c-9b88-e40c1d800828"
      },
      "outputs": [],
      "source": [
        "test_data = test.as_numpy_iterator()"
      ]
    },
    {
      "cell_type": "code",
      "source": [
        "sample = test_data.next()"
      ],
      "metadata": {
        "id": "3_iQzBByIvbJ"
      },
      "id": "3_iQzBByIvbJ",
      "execution_count": null,
      "outputs": []
    },
    {
      "cell_type": "code",
      "source": [
        "# sample is a tuple of 2 rows, each row containing - frames, alignment\n",
        "print(sample[0].shape)\n",
        "print(sample[1].shape)\n",
        "print(sample[1])\n"
      ],
      "metadata": {
        "colab": {
          "base_uri": "https://localhost:8080/"
        },
        "id": "cpXiGY57IyWj",
        "outputId": "d7ac7327-524d-4522-a32c-3735121c1dd3"
      },
      "id": "cpXiGY57IyWj",
      "execution_count": null,
      "outputs": [
        {
          "output_type": "stream",
          "name": "stdout",
          "text": [
            "(2, 75, 46, 140, 1)\n",
            "(2, 40)\n",
            "[[16 12  1  3  5 39  7 18  5  5 14 39  1 20 39  1 39  5  9  7  8 20 39 16\n",
            "  12  5  1 19  5  0  0  0  0  0  0  0  0  0  0  0]\n",
            " [19  5 20 39 18  5  4 39  1 20 39  5 39  6 15 21 18 39 16 12  5  1 19  5\n",
            "   0  0  0  0  0  0  0  0  0  0  0  0  0  0  0  0]]\n"
          ]
        }
      ]
    },
    {
      "cell_type": "code",
      "execution_count": null,
      "id": "38546dc2-bee9-4837-864b-8a884df40ad7",
      "metadata": {
        "tags": [],
        "id": "38546dc2-bee9-4837-864b-8a884df40ad7",
        "colab": {
          "base_uri": "https://localhost:8080/"
        },
        "outputId": "92edd4fb-ad03-47ad-ba48-340783093af7"
      },
      "outputs": [
        {
          "output_type": "stream",
          "name": "stdout",
          "text": [
            "1/1 [==============================] - 3s 3s/step\n",
            "~~~~~~~~~~~~~~~~~~~~~~~~~~~~~~~~~~~~~~~~~~~~~~~~~~~~~~~~~~~~~~~~~~~~~~~~~~~~~~~~~~~~~~~~~~~~~~~~~~~~ REAL TEXT\n",
            "tf.Tensor(b'lay blue sp with e six please', shape=(), dtype=string)\n",
            "tf.Tensor(b'bin blue with m four now', shape=(), dtype=string)\n",
            "~~~~~~~~~~~~~~~~~~~~~~~~~~~~~~~~~~~~~~~~~~~~~~~~~~~~~~~~~~~~~~~~~~~~~~~~~~~~~~~~~~~~~~~~~~~~~~~~~~~~ PREDICTIONS\n",
            "tf.Tensor(b'lay blue spwith e six please', shape=(), dtype=string)\n",
            "tf.Tensor(b'bin blue with m four now', shape=(), dtype=string)\n",
            "1/1 [==============================] - 0s 236ms/step\n",
            "~~~~~~~~~~~~~~~~~~~~~~~~~~~~~~~~~~~~~~~~~~~~~~~~~~~~~~~~~~~~~~~~~~~~~~~~~~~~~~~~~~~~~~~~~~~~~~~~~~~~ REAL TEXT\n",
            "tf.Tensor(b'bin blue in r six now', shape=(), dtype=string)\n",
            "tf.Tensor(b'bin green with u seven soon', shape=(), dtype=string)\n",
            "~~~~~~~~~~~~~~~~~~~~~~~~~~~~~~~~~~~~~~~~~~~~~~~~~~~~~~~~~~~~~~~~~~~~~~~~~~~~~~~~~~~~~~~~~~~~~~~~~~~~ PREDICTIONS\n",
            "tf.Tensor(b'bin blue in r six now', shape=(), dtype=string)\n",
            "tf.Tensor(b'bin green with u seven soon', shape=(), dtype=string)\n",
            "1/1 [==============================] - 0s 234ms/step\n",
            "~~~~~~~~~~~~~~~~~~~~~~~~~~~~~~~~~~~~~~~~~~~~~~~~~~~~~~~~~~~~~~~~~~~~~~~~~~~~~~~~~~~~~~~~~~~~~~~~~~~~ REAL TEXT\n",
            "tf.Tensor(b'lay green in r nine soon', shape=(), dtype=string)\n",
            "tf.Tensor(b'lay red by l three again', shape=(), dtype=string)\n",
            "~~~~~~~~~~~~~~~~~~~~~~~~~~~~~~~~~~~~~~~~~~~~~~~~~~~~~~~~~~~~~~~~~~~~~~~~~~~~~~~~~~~~~~~~~~~~~~~~~~~~ PREDICTIONS\n",
            "tf.Tensor(b'lay green in r nine soon', shape=(), dtype=string)\n",
            "tf.Tensor(b'lay red by l thre again', shape=(), dtype=string)\n",
            "1/1 [==============================] - 0s 232ms/step\n",
            "~~~~~~~~~~~~~~~~~~~~~~~~~~~~~~~~~~~~~~~~~~~~~~~~~~~~~~~~~~~~~~~~~~~~~~~~~~~~~~~~~~~~~~~~~~~~~~~~~~~~ REAL TEXT\n",
            "tf.Tensor(b'place red in s two now', shape=(), dtype=string)\n",
            "tf.Tensor(b'set red in d nine soon', shape=(), dtype=string)\n",
            "~~~~~~~~~~~~~~~~~~~~~~~~~~~~~~~~~~~~~~~~~~~~~~~~~~~~~~~~~~~~~~~~~~~~~~~~~~~~~~~~~~~~~~~~~~~~~~~~~~~~ PREDICTIONS\n",
            "tf.Tensor(b'place red in s two now', shape=(), dtype=string)\n",
            "tf.Tensor(b'set red in d nine soon', shape=(), dtype=string)\n",
            "1/1 [==============================] - 0s 229ms/step\n",
            "~~~~~~~~~~~~~~~~~~~~~~~~~~~~~~~~~~~~~~~~~~~~~~~~~~~~~~~~~~~~~~~~~~~~~~~~~~~~~~~~~~~~~~~~~~~~~~~~~~~~ REAL TEXT\n",
            "tf.Tensor(b'set blue in q zero now', shape=(), dtype=string)\n",
            "tf.Tensor(b'bin blue by s six please', shape=(), dtype=string)\n",
            "~~~~~~~~~~~~~~~~~~~~~~~~~~~~~~~~~~~~~~~~~~~~~~~~~~~~~~~~~~~~~~~~~~~~~~~~~~~~~~~~~~~~~~~~~~~~~~~~~~~~ PREDICTIONS\n",
            "tf.Tensor(b'set blue in q zero now', shape=(), dtype=string)\n",
            "tf.Tensor(b'bin blue by s six please', shape=(), dtype=string)\n"
          ]
        }
      ],
      "source": [
        "for x in range(5):\n",
        "  sample = test_data.next()\n",
        "  yhat = model.predict(sample[0])\n",
        "\n",
        "  print('~'*100, 'REAL TEXT')\n",
        "  [print(tf.strings.reduce_join([num_to_char(word) for word in sentence])) for sentence in sample[1]]\n",
        "\n",
        "  decoded = tf.keras.backend.ctc_decode(yhat, input_length=[75,75], greedy=True)[0][0].numpy()\n",
        "  print('~'*100, 'PREDICTIONS')\n",
        "  [print(tf.strings.reduce_join([num_to_char(word) for word in sentence])) for sentence in decoded]"
      ]
    },
    {
      "cell_type": "code",
      "source": [
        "sample = test_data.next()\n",
        "yhat = model.predict(sample[0])\n",
        "\n",
        "print(yhat)\n",
        "\n",
        "print('~'*100, 'REAL TEXT')\n",
        "[print(tf.strings.reduce_join([num_to_char(word) for word in sentence])) for sentence in sample[1]]\n",
        "\n",
        "decoded = tf.keras.backend.ctc_decode(yhat, input_length=[75,75], greedy=True)[0][0].numpy()\n",
        "print('~'*100, 'PREDICTIONS')\n",
        "[print(tf.strings.reduce_join([num_to_char(word) for word in sentence])) for sentence in decoded]"
      ],
      "metadata": {
        "colab": {
          "base_uri": "https://localhost:8080/"
        },
        "id": "IsZfA3JTE670",
        "outputId": "930aa0b8-ab37-4a0a-99aa-0f070131fa7a"
      },
      "id": "IsZfA3JTE670",
      "execution_count": null,
      "outputs": [
        {
          "output_type": "stream",
          "name": "stdout",
          "text": [
            "1/1 [==============================] - 0s 285ms/step\n",
            "[[[1.71557687e-07 2.19453028e-07 9.99739587e-01 ... 7.07961190e-11\n",
            "   2.14904485e-05 2.24930318e-07]\n",
            "  [1.76517023e-08 2.28820310e-04 1.33828435e-05 ... 1.02141494e-12\n",
            "   4.01806432e-07 1.26118550e-06]\n",
            "  [1.92947965e-07 1.29964064e-07 1.03290461e-06 ... 8.44103260e-12\n",
            "   9.40326063e-05 5.72905776e-07]\n",
            "  ...\n",
            "  [9.99937057e-01 3.20475579e-09 4.47756108e-08 ... 3.77555938e-11\n",
            "   2.96634770e-08 6.06141984e-05]\n",
            "  [2.28327062e-05 3.20272177e-11 2.61474953e-10 ... 5.20313239e-15\n",
            "   2.49926613e-09 9.99976516e-01]\n",
            "  [9.99797523e-01 3.25677485e-09 1.47913511e-07 ... 2.36728952e-11\n",
            "   3.52575512e-07 1.93599451e-04]]\n",
            "\n",
            " [[4.89412315e-08 1.98275416e-06 9.11125426e-06 ... 5.23155907e-10\n",
            "   5.60036995e-07 1.91797778e-08]\n",
            "  [7.74211806e-09 3.61720158e-05 2.28854333e-06 ... 1.38990945e-11\n",
            "   3.26141780e-09 3.06346379e-08]\n",
            "  [9.02559083e-10 9.99913812e-01 6.29152908e-08 ... 2.34237074e-11\n",
            "   6.03318950e-10 1.04849622e-08]\n",
            "  ...\n",
            "  [9.99963760e-01 1.81615700e-09 2.53629384e-08 ... 2.31049017e-11\n",
            "   8.91558205e-09 3.52608586e-05]\n",
            "  [4.31127082e-05 6.71416256e-11 3.87329613e-10 ... 1.26819602e-14\n",
            "   2.30121300e-09 9.99956369e-01]\n",
            "  [9.99875426e-01 2.36956832e-09 6.63913511e-08 ... 8.27359101e-12\n",
            "   1.32397346e-07 1.21255791e-04]]]\n",
            "~~~~~~~~~~~~~~~~~~~~~~~~~~~~~~~~~~~~~~~~~~~~~~~~~~~~~~~~~~~~~~~~~~~~~~~~~~~~~~~~~~~~~~~~~~~~~~~~~~~~ REAL TEXT\n",
            "tf.Tensor(b'bin green in a three soon', shape=(), dtype=string)\n",
            "tf.Tensor(b'place white in g three again', shape=(), dtype=string)\n",
            "~~~~~~~~~~~~~~~~~~~~~~~~~~~~~~~~~~~~~~~~~~~~~~~~~~~~~~~~~~~~~~~~~~~~~~~~~~~~~~~~~~~~~~~~~~~~~~~~~~~~ PREDICTIONS\n",
            "tf.Tensor(b'bin green in a thre soon', shape=(), dtype=string)\n",
            "tf.Tensor(b'place white in g three again', shape=(), dtype=string)\n"
          ]
        },
        {
          "output_type": "execute_result",
          "data": {
            "text/plain": [
              "[None, None]"
            ]
          },
          "metadata": {},
          "execution_count": 55
        }
      ]
    },
    {
      "cell_type": "markdown",
      "id": "64622f98-e99b-4fed-a2cc-f0da82eb5431",
      "metadata": {
        "id": "64622f98-e99b-4fed-a2cc-f0da82eb5431"
      },
      "source": [
        "# Test on a Video from our dataset"
      ]
    },
    {
      "cell_type": "code",
      "execution_count": null,
      "id": "a8b0c4d0-2031-4331-b91d-d87b1ae6f6e2",
      "metadata": {
        "id": "a8b0c4d0-2031-4331-b91d-d87b1ae6f6e2",
        "colab": {
          "base_uri": "https://localhost:8080/"
        },
        "outputId": "7b15c6c0-5a9c-487e-81b9-dec1a0f888ba"
      },
      "outputs": [
        {
          "output_type": "stream",
          "name": "stdout",
          "text": [
            "(75, 46, 140, 1)\n",
            "(23,)\n"
          ]
        }
      ],
      "source": [
        "sample = load_data(tf.convert_to_tensor('./data/s1/bras9a.mpg'))\n",
        "print(sample[0].shape) # 75 frames\n",
        "print(sample[1].shape) # alignments\n",
        "# sample = load_data(tf.convert_to_tensor('./content/id23_6000_priazn.mpg'))"
      ]
    },
    {
      "cell_type": "code",
      "source": [
        "type(sample[0])"
      ],
      "metadata": {
        "colab": {
          "base_uri": "https://localhost:8080/"
        },
        "id": "o_RIG7h5dv1P",
        "outputId": "ba2fa5f3-b884-4fd5-88ef-c6f7c35e8f54"
      },
      "id": "o_RIG7h5dv1P",
      "execution_count": null,
      "outputs": [
        {
          "output_type": "execute_result",
          "data": {
            "text/plain": [
              "tensorflow.python.framework.ops.EagerTensor"
            ]
          },
          "metadata": {},
          "execution_count": 57
        }
      ]
    },
    {
      "cell_type": "code",
      "execution_count": null,
      "id": "0cca60e4-47a9-4683-8a75-48f4684f723d",
      "metadata": {
        "id": "0cca60e4-47a9-4683-8a75-48f4684f723d",
        "colab": {
          "base_uri": "https://localhost:8080/"
        },
        "outputId": "4abf6a70-3fdd-4558-d04a-b064372d6ab6"
      },
      "outputs": [
        {
          "output_type": "stream",
          "name": "stdout",
          "text": [
            "~~~~~~~~~~~~~~~~~~~~~~~~~~~~~~~~~~~~~~~~~~~~~~~~~~~~~~~~~~~~~~~~~~~~~~~~~~~~~~~~~~~~~~~~~~~~~~~~~~~~ REAL TEXT\n"
          ]
        },
        {
          "output_type": "execute_result",
          "data": {
            "text/plain": [
              "[<tf.Tensor: shape=(), dtype=string, numpy=b'bin red at s nine again'>]"
            ]
          },
          "metadata": {},
          "execution_count": 58
        }
      ],
      "source": [
        "print('~'*100, 'REAL TEXT')\n",
        "[tf.strings.reduce_join([num_to_char(word) for word in sentence]) for sentence in [sample[1]]]"
      ]
    },
    {
      "cell_type": "code",
      "execution_count": null,
      "id": "8cc5037c-1e32-435c-b0cc-01e1fb3b863c",
      "metadata": {
        "id": "8cc5037c-1e32-435c-b0cc-01e1fb3b863c",
        "colab": {
          "base_uri": "https://localhost:8080/"
        },
        "outputId": "8366cc6b-a30a-4a04-91df-972cddcce0cd"
      },
      "outputs": [
        {
          "output_type": "stream",
          "name": "stdout",
          "text": [
            "1/1 [==============================] - 1s 970ms/step\n"
          ]
        }
      ],
      "source": [
        "yhat = model.predict(tf.expand_dims(sample[0], axis=0))"
      ]
    },
    {
      "cell_type": "code",
      "execution_count": null,
      "id": "22c4f77d-715d-409f-bc5e-3ebe48704e8f",
      "metadata": {
        "id": "22c4f77d-715d-409f-bc5e-3ebe48704e8f"
      },
      "outputs": [],
      "source": [
        "decoded = tf.keras.backend.ctc_decode(yhat, input_length=[75], greedy=True)[0][0].numpy()"
      ]
    },
    {
      "cell_type": "code",
      "execution_count": null,
      "id": "e4d12ecc-b634-499e-a4bc-db9f010835fb",
      "metadata": {
        "id": "e4d12ecc-b634-499e-a4bc-db9f010835fb",
        "colab": {
          "base_uri": "https://localhost:8080/"
        },
        "outputId": "9c97a4c2-8760-4425-d534-172fbd55199a"
      },
      "outputs": [
        {
          "output_type": "stream",
          "name": "stdout",
          "text": [
            "~~~~~~~~~~~~~~~~~~~~~~~~~~~~~~~~~~~~~~~~~~~~~~~~~~~~~~~~~~~~~~~~~~~~~~~~~~~~~~~~~~~~~~~~~~~~~~~~~~~~ PREDICTIONS\n"
          ]
        },
        {
          "output_type": "execute_result",
          "data": {
            "text/plain": [
              "[<tf.Tensor: shape=(), dtype=string, numpy=b'bin red at s nine again'>]"
            ]
          },
          "metadata": {},
          "execution_count": 61
        }
      ],
      "source": [
        "print('~'*100, 'PREDICTIONS')\n",
        "[tf.strings.reduce_join([num_to_char(word) for word in sentence]) for sentence in decoded]"
      ]
    },
    {
      "cell_type": "markdown",
      "source": [
        "# Predicting on Random Video"
      ],
      "metadata": {
        "id": "ywPLFs6bMhbu"
      },
      "id": "ywPLFs6bMhbu"
    },
    {
      "cell_type": "code",
      "source": [
        "# !ls /content/gdrive/MyDrive"
      ],
      "metadata": {
        "id": "M5BbXu70LVjJ"
      },
      "id": "M5BbXu70LVjJ",
      "execution_count": null,
      "outputs": []
    },
    {
      "cell_type": "code",
      "source": [
        "import dlib\n",
        "import cv2"
      ],
      "metadata": {
        "id": "FOEAhaIqTsM0"
      },
      "id": "FOEAhaIqTsM0",
      "execution_count": null,
      "outputs": []
    },
    {
      "cell_type": "code",
      "source": [
        "def custom_load_video(path:str) -> List[float]:\n",
        "\n",
        "    cap = cv2.VideoCapture(path)\n",
        "    frames = []\n",
        "    for _ in range(int(cap.get(cv2.CAP_PROP_FRAME_COUNT))):\n",
        "        ret, frame = cap.read()\n",
        "        #frame = tf.image.rgb_to_grayscale(frame) # tf object is not valid with dlib , numpy array needed\n",
        "\n",
        "        # Convert the image to grayscale for face detection\n",
        "        frame = cv2.cvtColor(frame, cv2.COLOR_BGR2GRAY)\n",
        "        #frames.append(frame[190:236,80:220,:])\n",
        "\n",
        "        # Load the face detection model from Dlib\n",
        "        face_detector = dlib.get_frontal_face_detector()\n",
        "\n",
        "        # Load the shape predictor model for facial landmarks\n",
        "        shape_predictor = dlib.shape_predictor(\"shape_predictor_68_face_landmarks.dat\")\n",
        "\n",
        "        # detect faces in frame\n",
        "        faces = face_detector(frame)\n",
        "\n",
        "        if len(faces) > 0:\n",
        "          # Assuming there is only one face in the image\n",
        "          face = faces[0]\n",
        "\n",
        "          # Get the facial landmarks\n",
        "          landmarks = shape_predictor(frame, face)\n",
        "\n",
        "          # Extract the lip region based on landmarks\n",
        "          lip_x, lip_y = landmarks.part(48).x, landmarks.part(51).y\n",
        "          lip_width, lip_height = landmarks.part(54).x - lip_x, landmarks.part(57).y - lip_y\n",
        "\n",
        "          # Define the desired lip size\n",
        "          desired_lip_width, desired_lip_height = 140, 46\n",
        "\n",
        "          # Calculate the crop region for the lip while centering it\n",
        "          x = lip_x - (desired_lip_width - lip_width) // 2\n",
        "          y = lip_y - (desired_lip_height - lip_height) // 2\n",
        "\n",
        "          # Crop the lip region\n",
        "          cropped_lip = frame[y:y+desired_lip_height, x:x+desired_lip_width]\n",
        "\n",
        "          # Save the cropped lip region\n",
        "          frames.append(cropped_lip)\n",
        "\n",
        "    cap.release()\n",
        "\n",
        "    mean = tf.math.reduce_mean(frames)\n",
        "    std = tf.math.reduce_std(tf.cast(frames, tf.float32))\n",
        "    return tf.cast((frames - mean), tf.float32) / std"
      ],
      "metadata": {
        "id": "XxjvSO3Lu74-"
      },
      "id": "XxjvSO3Lu74-",
      "execution_count": null,
      "outputs": []
    },
    {
      "cell_type": "code",
      "source": [
        "# Random video\n",
        "vid = custom_load_video(\"bbaf5a.mpg\")"
      ],
      "metadata": {
        "id": "zUtRgzwWWYn_"
      },
      "id": "zUtRgzwWWYn_",
      "execution_count": null,
      "outputs": []
    },
    {
      "cell_type": "code",
      "source": [
        "print(vid.shape)"
      ],
      "metadata": {
        "colab": {
          "base_uri": "https://localhost:8080/"
        },
        "id": "V7n4FmIJetjg",
        "outputId": "6736a832-06bb-43d3-cb42-2873158c1d76"
      },
      "id": "V7n4FmIJetjg",
      "execution_count": null,
      "outputs": [
        {
          "output_type": "stream",
          "name": "stdout",
          "text": [
            "(75, 46, 140)\n"
          ]
        }
      ]
    },
    {
      "cell_type": "code",
      "source": [
        "vid = tf.expand_dims(vid, axis=-1)\n",
        "print(vid.shape)\n"
      ],
      "metadata": {
        "colab": {
          "base_uri": "https://localhost:8080/"
        },
        "id": "T_KlSh27eaXw",
        "outputId": "8251d11b-a7d7-4c4d-cf99-40d8e5750edb"
      },
      "id": "T_KlSh27eaXw",
      "execution_count": null,
      "outputs": [
        {
          "output_type": "stream",
          "name": "stdout",
          "text": [
            "(75, 46, 140, 1)\n"
          ]
        }
      ]
    },
    {
      "cell_type": "code",
      "source": [
        "plt.imshow(vid[0])"
      ],
      "metadata": {
        "colab": {
          "base_uri": "https://localhost:8080/",
          "height": 244
        },
        "id": "eupawwRrbGIr",
        "outputId": "a94adb59-4cad-4994-a42b-d2d7a5c1b903"
      },
      "id": "eupawwRrbGIr",
      "execution_count": null,
      "outputs": [
        {
          "output_type": "execute_result",
          "data": {
            "text/plain": [
              "<matplotlib.image.AxesImage at 0x7ebd75a70820>"
            ]
          },
          "metadata": {},
          "execution_count": 83
        },
        {
          "output_type": "display_data",
          "data": {
            "text/plain": [
              "<Figure size 640x480 with 1 Axes>"
            ],
            "image/png": "[encoded data removed]"
          },
          "metadata": {}
        }
      ]
    },
    {
      "cell_type": "code",
      "source": [
        "# predicting\n",
        "yhat = model.predict(tf.expand_dims(vid, axis=0))\n",
        "decoded = tf.keras.backend.ctc_decode(yhat, input_length=[75], greedy=True)[0][0].numpy()\n",
        "print('~'*50, 'PREDICTIONS')\n",
        "[tf.strings.reduce_join([num_to_char(word) for word in sentence]) for sentence in decoded]"
      ],
      "metadata": {
        "colab": {
          "base_uri": "https://localhost:8080/"
        },
        "id": "E3awp2ApbJfK",
        "outputId": "adbf9184-215e-4372-bf1c-844885675608"
      },
      "id": "E3awp2ApbJfK",
      "execution_count": null,
      "outputs": [
        {
          "output_type": "stream",
          "name": "stdout",
          "text": [
            "1/1 [==============================] - 0s 166ms/step\n",
            "~~~~~~~~~~~~~~~~~~~~~~~~~~~~~~~~~~~~~~~~~~~~~~~~~~ PREDICTIONS\n"
          ]
        },
        {
          "output_type": "execute_result",
          "data": {
            "text/plain": [
              "[<tf.Tensor: shape=(), dtype=string, numpy=b'set brle at sere agoon'>]"
            ]
          },
          "metadata": {},
          "execution_count": 84
        }
      ]
    },
    {
      "cell_type": "markdown",
      "source": [
        "### Word Error Rate"
      ],
      "metadata": {
        "id": "t7KVlO3j390m"
      },
      "id": "t7KVlO3j390m"
    },
    {
      "cell_type": "code",
      "source": [
        "import numpy\n",
        "import doctest\n",
        "\n",
        "def wer(r, h):\n",
        "    \"\"\"\n",
        "    wer(\"who is there\".split(), \"is there\".split())\n",
        "    \"\"\"\n",
        "    # initialisation\n",
        "    d = numpy.zeros((len(r)+1)*(len(h)+1), dtype=numpy.uint8)\n",
        "    d = d.reshape((len(r)+1, len(h)+1))\n",
        "    for i in range(len(r)+1):\n",
        "        for j in range(len(h)+1):\n",
        "            if i == 0:\n",
        "                d[0][j] = j\n",
        "            elif j == 0:\n",
        "                d[i][0] = i\n",
        "\n",
        "    # computation\n",
        "    for i in range(1, len(r)+1):\n",
        "        for j in range(1, len(h)+1):\n",
        "            if r[i-1] == h[j-1]:\n",
        "                d[i][j] = d[i-1][j-1]\n",
        "            else:\n",
        "                substitution = d[i-1][j-1] + 1\n",
        "                insertion    = d[i][j-1] + 1\n",
        "                deletion     = d[i-1][j] + 1\n",
        "                d[i][j] = min(substitution, insertion, deletion)\n",
        "\n",
        "    return d[len(r)][len(h)]\n",
        "\n",
        "def wer_sentence(r, h):\n",
        "    return wer(r.split(), h.split())"
      ],
      "metadata": {
        "id": "-511_Kkcpjyl"
      },
      "id": "-511_Kkcpjyl",
      "execution_count": 34,
      "outputs": []
    },
    {
      "cell_type": "code",
      "source": [
        "test_data = test.as_numpy_iterator()\n",
        "\n",
        "num=0\n",
        "dem=0\n",
        "\n",
        "for x in range(50):\n",
        "  sample = test_data.next()\n",
        "  yhat = model.predict(sample[0])\n",
        "  decoded = tf.keras.backend.ctc_decode(yhat, input_length=[75,75], greedy=True)[0][0].numpy()\n",
        "  real = [(tf.strings.reduce_join([num_to_char(word) for word in sentence])) for sentence in sample[1]]\n",
        "  predicted = [(tf.strings.reduce_join([num_to_char(word) for word in sentence])) for sentence in decoded]\n",
        "  num = num + wer(real, predicted)\n",
        "  dem = dem + len(real)\n",
        "print('WER: ')\n",
        "print(num/dem)"
      ],
      "metadata": {
        "colab": {
          "base_uri": "https://localhost:8080/"
        },
        "id": "75k_cvMc3486",
        "outputId": "4e0880e4-dbfc-4ddb-8cf9-b65ce08bc133"
      },
      "id": "75k_cvMc3486",
      "execution_count": 45,
      "outputs": [
        {
          "output_type": "stream",
          "name": "stdout",
          "text": [
            "1/1 [==============================] - 9s 9s/step\n",
            "1/1 [==============================] - 0s 213ms/step\n",
            "1/1 [==============================] - 0s 211ms/step\n",
            "1/1 [==============================] - 0s 215ms/step\n",
            "1/1 [==============================] - 0s 216ms/step\n",
            "1/1 [==============================] - 0s 208ms/step\n",
            "1/1 [==============================] - 0s 225ms/step\n",
            "1/1 [==============================] - 0s 207ms/step\n",
            "1/1 [==============================] - 0s 221ms/step\n",
            "1/1 [==============================] - 0s 204ms/step\n",
            "1/1 [==============================] - 0s 230ms/step\n",
            "1/1 [==============================] - 0s 231ms/step\n",
            "1/1 [==============================] - 0s 256ms/step\n",
            "1/1 [==============================] - 0s 231ms/step\n",
            "1/1 [==============================] - 0s 246ms/step\n",
            "1/1 [==============================] - 0s 243ms/step\n",
            "1/1 [==============================] - 0s 240ms/step\n",
            "1/1 [==============================] - 0s 249ms/step\n",
            "1/1 [==============================] - 0s 218ms/step\n",
            "1/1 [==============================] - 0s 207ms/step\n",
            "1/1 [==============================] - 0s 213ms/step\n",
            "1/1 [==============================] - 0s 210ms/step\n",
            "1/1 [==============================] - 0s 193ms/step\n",
            "1/1 [==============================] - 0s 215ms/step\n",
            "1/1 [==============================] - 0s 206ms/step\n",
            "1/1 [==============================] - 0s 206ms/step\n",
            "1/1 [==============================] - 0s 208ms/step\n",
            "1/1 [==============================] - 0s 210ms/step\n",
            "1/1 [==============================] - 0s 216ms/step\n",
            "1/1 [==============================] - 0s 215ms/step\n",
            "1/1 [==============================] - 0s 255ms/step\n",
            "1/1 [==============================] - 0s 244ms/step\n",
            "1/1 [==============================] - 0s 235ms/step\n",
            "1/1 [==============================] - 0s 237ms/step\n",
            "1/1 [==============================] - 0s 231ms/step\n",
            "1/1 [==============================] - 0s 239ms/step\n",
            "1/1 [==============================] - 0s 232ms/step\n",
            "1/1 [==============================] - 0s 222ms/step\n",
            "1/1 [==============================] - 0s 213ms/step\n",
            "1/1 [==============================] - 0s 209ms/step\n",
            "1/1 [==============================] - 0s 215ms/step\n",
            "1/1 [==============================] - 0s 213ms/step\n",
            "1/1 [==============================] - 0s 214ms/step\n",
            "1/1 [==============================] - 0s 209ms/step\n",
            "1/1 [==============================] - 0s 213ms/step\n",
            "1/1 [==============================] - 0s 212ms/step\n",
            "1/1 [==============================] - 0s 211ms/step\n",
            "1/1 [==============================] - 0s 216ms/step\n",
            "1/1 [==============================] - 0s 210ms/step\n",
            "1/1 [==============================] - 0s 199ms/step\n",
            "WER: \n",
            "0.16\n"
          ]
        }
      ]
    },
    {
      "cell_type": "code",
      "source": [],
      "metadata": {
        "id": "4xEQ2nuyTQW4"
      },
      "id": "4xEQ2nuyTQW4",
      "execution_count": null,
      "outputs": []
    }
  ],
  "metadata": {
    "kernelspec": {
      "display_name": "lips",
      "language": "python",
      "name": "lips"
    },
    "language_info": {
      "codemirror_mode": {
        "name": "ipython",
        "version": 3
      },
      "file_extension": ".py",
      "mimetype": "text/x-python",
      "name": "python",
      "nbconvert_exporter": "python",
      "pygments_lexer": "ipython3",
      "version": "3.9.12"
    },
    "colab": {
      "provenance": [],
      "gpuType": "T4"
    },
    "accelerator": "GPU"
  },
  "nbformat": 4,
  "nbformat_minor": 5
}